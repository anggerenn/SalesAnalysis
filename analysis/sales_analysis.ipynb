{
 "cells": [
  {
   "cell_type": "markdown",
   "metadata": {},
   "source": [
    "# Sales Analysis"
   ]
  },
  {
   "cell_type": "markdown",
   "metadata": {},
   "source": [
    "#### Import necessary library"
   ]
  },
  {
   "cell_type": "code",
   "execution_count": 266,
   "metadata": {},
   "outputs": [],
   "source": [
    "import os\n",
    "import pandas as pd\n",
    "import matplotlib.pyplot as plt"
   ]
  },
  {
   "cell_type": "markdown",
   "metadata": {},
   "source": [
    "### Task 1: Merge all files into one csv file"
   ]
  },
  {
   "cell_type": "code",
   "execution_count": 359,
   "metadata": {},
   "outputs": [],
   "source": [
    "path = \"./data\"\n",
    "\n",
    "files = [file for file in os.listdir(path) if file.endswith(\".csv\")] # only choose csv files\n",
    "\n",
    "all_months_data = pd.DataFrame()\n",
    "\n",
    "for file in files:\n",
    "    current_data = pd.read_csv(path+\"/\"+file)\n",
    "    all_months_data = pd.concat([all_months_data, current_data])\n",
    "    \n",
    "all_months_data.drop(columns='Unnamed: 0', inplace=True)\n",
    "all_months_data.head()\n",
    "\n",
    "all_months_data.to_csv(\"sales_data_2020.csv\", index=False)"
   ]
  },
  {
   "cell_type": "markdown",
   "metadata": {},
   "source": [
    "#### Read updated data"
   ]
  },
  {
   "cell_type": "code",
   "execution_count": 239,
   "metadata": {},
   "outputs": [
    {
     "data": {
      "text/html": [
       "<div>\n",
       "<style scoped>\n",
       "    .dataframe tbody tr th:only-of-type {\n",
       "        vertical-align: middle;\n",
       "    }\n",
       "\n",
       "    .dataframe tbody tr th {\n",
       "        vertical-align: top;\n",
       "    }\n",
       "\n",
       "    .dataframe thead th {\n",
       "        text-align: right;\n",
       "    }\n",
       "</style>\n",
       "<table border=\"1\" class=\"dataframe\">\n",
       "  <thead>\n",
       "    <tr style=\"text-align: right;\">\n",
       "      <th></th>\n",
       "      <th>Order ID</th>\n",
       "      <th>Product</th>\n",
       "      <th>Quantity</th>\n",
       "      <th>Price Each</th>\n",
       "      <th>Order Date</th>\n",
       "      <th>Purchase Address</th>\n",
       "    </tr>\n",
       "  </thead>\n",
       "  <tbody>\n",
       "    <tr>\n",
       "      <th>0</th>\n",
       "      <td>34352</td>\n",
       "      <td>34in Ultrawide Monitor</td>\n",
       "      <td>1</td>\n",
       "      <td>379.99</td>\n",
       "      <td>4/28/2020 21:47</td>\n",
       "      <td>4864 Willow St, Dallas, TX 75001</td>\n",
       "    </tr>\n",
       "    <tr>\n",
       "      <th>1</th>\n",
       "      <td>34353</td>\n",
       "      <td>AA Batteries (4-pack)</td>\n",
       "      <td>1</td>\n",
       "      <td>3.84</td>\n",
       "      <td>4/29/2020 06:33</td>\n",
       "      <td>5103 Jefferson St, Los Angeles, CA 90001</td>\n",
       "    </tr>\n",
       "    <tr>\n",
       "      <th>2</th>\n",
       "      <td>34354</td>\n",
       "      <td>Lightning Charging Cable</td>\n",
       "      <td>1</td>\n",
       "      <td>14.95</td>\n",
       "      <td>4/28/2020 16:38</td>\n",
       "      <td>6451 7th St, Portland, OR 97035</td>\n",
       "    </tr>\n",
       "    <tr>\n",
       "      <th>3</th>\n",
       "      <td>34355</td>\n",
       "      <td>iPhone</td>\n",
       "      <td>1</td>\n",
       "      <td>700.00</td>\n",
       "      <td>4/29/2020 18:08</td>\n",
       "      <td>3785 Main St, Dallas, TX 75001</td>\n",
       "    </tr>\n",
       "    <tr>\n",
       "      <th>4</th>\n",
       "      <td>34355</td>\n",
       "      <td>Wired Headphones</td>\n",
       "      <td>1</td>\n",
       "      <td>11.99</td>\n",
       "      <td>4/29/2020 18:08</td>\n",
       "      <td>3785 Main St, Dallas, TX 75001</td>\n",
       "    </tr>\n",
       "  </tbody>\n",
       "</table>\n",
       "</div>"
      ],
      "text/plain": [
       "   Order ID                   Product  Quantity  Price Each       Order Date  \\\n",
       "0     34352    34in Ultrawide Monitor         1      379.99  4/28/2020 21:47   \n",
       "1     34353     AA Batteries (4-pack)         1        3.84  4/29/2020 06:33   \n",
       "2     34354  Lightning Charging Cable         1       14.95  4/28/2020 16:38   \n",
       "3     34355                    iPhone         1      700.00  4/29/2020 18:08   \n",
       "4     34355          Wired Headphones         1       11.99  4/29/2020 18:08   \n",
       "\n",
       "                           Purchase Address  \n",
       "0          4864 Willow St, Dallas, TX 75001  \n",
       "1  5103 Jefferson St, Los Angeles, CA 90001  \n",
       "2           6451 7th St, Portland, OR 97035  \n",
       "3            3785 Main St, Dallas, TX 75001  \n",
       "4            3785 Main St, Dallas, TX 75001  "
      ]
     },
     "execution_count": 239,
     "metadata": {},
     "output_type": "execute_result"
    }
   ],
   "source": [
    "all_data = pd.read_csv(\"sales_data_2020.csv\")\n",
    "all_data.head()"
   ]
  },
  {
   "cell_type": "markdown",
   "metadata": {},
   "source": [
    "### Task 2: Clean up data"
   ]
  },
  {
   "cell_type": "markdown",
   "metadata": {},
   "source": [
    "#### Delete row with NaN"
   ]
  },
  {
   "cell_type": "code",
   "execution_count": 361,
   "metadata": {},
   "outputs": [
    {
     "data": {
      "text/html": [
       "<div>\n",
       "<style scoped>\n",
       "    .dataframe tbody tr th:only-of-type {\n",
       "        vertical-align: middle;\n",
       "    }\n",
       "\n",
       "    .dataframe tbody tr th {\n",
       "        vertical-align: top;\n",
       "    }\n",
       "\n",
       "    .dataframe thead th {\n",
       "        text-align: right;\n",
       "    }\n",
       "</style>\n",
       "<table border=\"1\" class=\"dataframe\">\n",
       "  <thead>\n",
       "    <tr style=\"text-align: right;\">\n",
       "      <th></th>\n",
       "      <th>Order ID</th>\n",
       "      <th>Product</th>\n",
       "      <th>Quantity</th>\n",
       "      <th>Price Each</th>\n",
       "      <th>Order Date</th>\n",
       "      <th>Purchase Address</th>\n",
       "    </tr>\n",
       "  </thead>\n",
       "  <tbody>\n",
       "    <tr>\n",
       "      <th>0</th>\n",
       "      <td>34352</td>\n",
       "      <td>34in Ultrawide Monitor</td>\n",
       "      <td>1</td>\n",
       "      <td>379.99</td>\n",
       "      <td>4/28/2020 21:47</td>\n",
       "      <td>4864 Willow St, Dallas, TX 75001</td>\n",
       "    </tr>\n",
       "    <tr>\n",
       "      <th>1</th>\n",
       "      <td>34353</td>\n",
       "      <td>AA Batteries (4-pack)</td>\n",
       "      <td>1</td>\n",
       "      <td>3.84</td>\n",
       "      <td>4/29/2020 06:33</td>\n",
       "      <td>5103 Jefferson St, Los Angeles, CA 90001</td>\n",
       "    </tr>\n",
       "    <tr>\n",
       "      <th>2</th>\n",
       "      <td>34354</td>\n",
       "      <td>Lightning Charging Cable</td>\n",
       "      <td>1</td>\n",
       "      <td>14.95</td>\n",
       "      <td>4/28/2020 16:38</td>\n",
       "      <td>6451 7th St, Portland, OR 97035</td>\n",
       "    </tr>\n",
       "    <tr>\n",
       "      <th>3</th>\n",
       "      <td>34355</td>\n",
       "      <td>iPhone</td>\n",
       "      <td>1</td>\n",
       "      <td>700.00</td>\n",
       "      <td>4/29/2020 18:08</td>\n",
       "      <td>3785 Main St, Dallas, TX 75001</td>\n",
       "    </tr>\n",
       "    <tr>\n",
       "      <th>4</th>\n",
       "      <td>34355</td>\n",
       "      <td>Wired Headphones</td>\n",
       "      <td>1</td>\n",
       "      <td>11.99</td>\n",
       "      <td>4/29/2020 18:08</td>\n",
       "      <td>3785 Main St, Dallas, TX 75001</td>\n",
       "    </tr>\n",
       "  </tbody>\n",
       "</table>\n",
       "</div>"
      ],
      "text/plain": [
       "   Order ID                   Product  Quantity  Price Each       Order Date  \\\n",
       "0     34352    34in Ultrawide Monitor         1      379.99  4/28/2020 21:47   \n",
       "1     34353     AA Batteries (4-pack)         1        3.84  4/29/2020 06:33   \n",
       "2     34354  Lightning Charging Cable         1       14.95  4/28/2020 16:38   \n",
       "3     34355                    iPhone         1      700.00  4/29/2020 18:08   \n",
       "4     34355          Wired Headphones         1       11.99  4/29/2020 18:08   \n",
       "\n",
       "                           Purchase Address  \n",
       "0          4864 Willow St, Dallas, TX 75001  \n",
       "1  5103 Jefferson St, Los Angeles, CA 90001  \n",
       "2           6451 7th St, Portland, OR 97035  \n",
       "3            3785 Main St, Dallas, TX 75001  \n",
       "4            3785 Main St, Dallas, TX 75001  "
      ]
     },
     "execution_count": 361,
     "metadata": {},
     "output_type": "execute_result"
    }
   ],
   "source": [
    "nan_df = all_data[all_data.isna().any(axis=1)]\n",
    "nan_df\n",
    "\n",
    "all_data = all_data.dropna(how='all')\n",
    "all_data.head()"
   ]
  },
  {
   "cell_type": "markdown",
   "metadata": {},
   "source": [
    "#### Find \"Or\" and delete it"
   ]
  },
  {
   "cell_type": "code",
   "execution_count": 362,
   "metadata": {},
   "outputs": [
    {
     "data": {
      "text/html": [
       "<div>\n",
       "<style scoped>\n",
       "    .dataframe tbody tr th:only-of-type {\n",
       "        vertical-align: middle;\n",
       "    }\n",
       "\n",
       "    .dataframe tbody tr th {\n",
       "        vertical-align: top;\n",
       "    }\n",
       "\n",
       "    .dataframe thead th {\n",
       "        text-align: right;\n",
       "    }\n",
       "</style>\n",
       "<table border=\"1\" class=\"dataframe\">\n",
       "  <thead>\n",
       "    <tr style=\"text-align: right;\">\n",
       "      <th></th>\n",
       "      <th>Order ID</th>\n",
       "      <th>Product</th>\n",
       "      <th>Quantity</th>\n",
       "      <th>Price Each</th>\n",
       "      <th>Order Date</th>\n",
       "      <th>Purchase Address</th>\n",
       "    </tr>\n",
       "  </thead>\n",
       "  <tbody>\n",
       "    <tr>\n",
       "      <th>0</th>\n",
       "      <td>34352</td>\n",
       "      <td>34in Ultrawide Monitor</td>\n",
       "      <td>1</td>\n",
       "      <td>379.99</td>\n",
       "      <td>4/28/2020 21:47</td>\n",
       "      <td>4864 Willow St, Dallas, TX 75001</td>\n",
       "    </tr>\n",
       "    <tr>\n",
       "      <th>1</th>\n",
       "      <td>34353</td>\n",
       "      <td>AA Batteries (4-pack)</td>\n",
       "      <td>1</td>\n",
       "      <td>3.84</td>\n",
       "      <td>4/29/2020 06:33</td>\n",
       "      <td>5103 Jefferson St, Los Angeles, CA 90001</td>\n",
       "    </tr>\n",
       "    <tr>\n",
       "      <th>2</th>\n",
       "      <td>34354</td>\n",
       "      <td>Lightning Charging Cable</td>\n",
       "      <td>1</td>\n",
       "      <td>14.95</td>\n",
       "      <td>4/28/2020 16:38</td>\n",
       "      <td>6451 7th St, Portland, OR 97035</td>\n",
       "    </tr>\n",
       "    <tr>\n",
       "      <th>3</th>\n",
       "      <td>34355</td>\n",
       "      <td>iPhone</td>\n",
       "      <td>1</td>\n",
       "      <td>700.00</td>\n",
       "      <td>4/29/2020 18:08</td>\n",
       "      <td>3785 Main St, Dallas, TX 75001</td>\n",
       "    </tr>\n",
       "    <tr>\n",
       "      <th>4</th>\n",
       "      <td>34355</td>\n",
       "      <td>Wired Headphones</td>\n",
       "      <td>1</td>\n",
       "      <td>11.99</td>\n",
       "      <td>4/29/2020 18:08</td>\n",
       "      <td>3785 Main St, Dallas, TX 75001</td>\n",
       "    </tr>\n",
       "  </tbody>\n",
       "</table>\n",
       "</div>"
      ],
      "text/plain": [
       "   Order ID                   Product  Quantity  Price Each       Order Date  \\\n",
       "0     34352    34in Ultrawide Monitor         1      379.99  4/28/2020 21:47   \n",
       "1     34353     AA Batteries (4-pack)         1        3.84  4/29/2020 06:33   \n",
       "2     34354  Lightning Charging Cable         1       14.95  4/28/2020 16:38   \n",
       "3     34355                    iPhone         1      700.00  4/29/2020 18:08   \n",
       "4     34355          Wired Headphones         1       11.99  4/29/2020 18:08   \n",
       "\n",
       "                           Purchase Address  \n",
       "0          4864 Willow St, Dallas, TX 75001  \n",
       "1  5103 Jefferson St, Los Angeles, CA 90001  \n",
       "2           6451 7th St, Portland, OR 97035  \n",
       "3            3785 Main St, Dallas, TX 75001  \n",
       "4            3785 Main St, Dallas, TX 75001  "
      ]
     },
     "execution_count": 362,
     "metadata": {},
     "output_type": "execute_result"
    }
   ],
   "source": [
    "all_data = all_data.loc[all_data['Order Date'] != \"Or\"]\n",
    "\n",
    "all_data.head()"
   ]
  },
  {
   "cell_type": "markdown",
   "metadata": {},
   "source": [
    "### Task 3: Add a Month column"
   ]
  },
  {
   "cell_type": "code",
   "execution_count": 240,
   "metadata": {},
   "outputs": [],
   "source": [
    "all_data['Sales'] = all_data['Quantity'] * all_data['Price Each']\n",
    "\n",
    "all_data['Month'] = pd.to_datetime(all_data['Order Date']).dt.month\n",
    "all_data['Month Name'] = pd.to_datetime(all_data['Order Date']).dt.month_name()"
   ]
  },
  {
   "cell_type": "code",
   "execution_count": 241,
   "metadata": {},
   "outputs": [
    {
     "data": {
      "text/html": [
       "<div>\n",
       "<style scoped>\n",
       "    .dataframe tbody tr th:only-of-type {\n",
       "        vertical-align: middle;\n",
       "    }\n",
       "\n",
       "    .dataframe tbody tr th {\n",
       "        vertical-align: top;\n",
       "    }\n",
       "\n",
       "    .dataframe thead th {\n",
       "        text-align: right;\n",
       "    }\n",
       "</style>\n",
       "<table border=\"1\" class=\"dataframe\">\n",
       "  <thead>\n",
       "    <tr style=\"text-align: right;\">\n",
       "      <th></th>\n",
       "      <th>Order ID</th>\n",
       "      <th>Product</th>\n",
       "      <th>Quantity</th>\n",
       "      <th>Price Each</th>\n",
       "      <th>Order Date</th>\n",
       "      <th>Purchase Address</th>\n",
       "      <th>Sales</th>\n",
       "      <th>Month</th>\n",
       "      <th>Month Name</th>\n",
       "    </tr>\n",
       "  </thead>\n",
       "  <tbody>\n",
       "    <tr>\n",
       "      <th>0</th>\n",
       "      <td>34352</td>\n",
       "      <td>34in Ultrawide Monitor</td>\n",
       "      <td>1</td>\n",
       "      <td>379.99</td>\n",
       "      <td>4/28/2020 21:47</td>\n",
       "      <td>4864 Willow St, Dallas, TX 75001</td>\n",
       "      <td>379.99</td>\n",
       "      <td>4</td>\n",
       "      <td>April</td>\n",
       "    </tr>\n",
       "    <tr>\n",
       "      <th>1</th>\n",
       "      <td>34353</td>\n",
       "      <td>AA Batteries (4-pack)</td>\n",
       "      <td>1</td>\n",
       "      <td>3.84</td>\n",
       "      <td>4/29/2020 06:33</td>\n",
       "      <td>5103 Jefferson St, Los Angeles, CA 90001</td>\n",
       "      <td>3.84</td>\n",
       "      <td>4</td>\n",
       "      <td>April</td>\n",
       "    </tr>\n",
       "    <tr>\n",
       "      <th>2</th>\n",
       "      <td>34354</td>\n",
       "      <td>Lightning Charging Cable</td>\n",
       "      <td>1</td>\n",
       "      <td>14.95</td>\n",
       "      <td>4/28/2020 16:38</td>\n",
       "      <td>6451 7th St, Portland, OR 97035</td>\n",
       "      <td>14.95</td>\n",
       "      <td>4</td>\n",
       "      <td>April</td>\n",
       "    </tr>\n",
       "    <tr>\n",
       "      <th>3</th>\n",
       "      <td>34355</td>\n",
       "      <td>iPhone</td>\n",
       "      <td>1</td>\n",
       "      <td>700.00</td>\n",
       "      <td>4/29/2020 18:08</td>\n",
       "      <td>3785 Main St, Dallas, TX 75001</td>\n",
       "      <td>700.00</td>\n",
       "      <td>4</td>\n",
       "      <td>April</td>\n",
       "    </tr>\n",
       "    <tr>\n",
       "      <th>4</th>\n",
       "      <td>34355</td>\n",
       "      <td>Wired Headphones</td>\n",
       "      <td>1</td>\n",
       "      <td>11.99</td>\n",
       "      <td>4/29/2020 18:08</td>\n",
       "      <td>3785 Main St, Dallas, TX 75001</td>\n",
       "      <td>11.99</td>\n",
       "      <td>4</td>\n",
       "      <td>April</td>\n",
       "    </tr>\n",
       "  </tbody>\n",
       "</table>\n",
       "</div>"
      ],
      "text/plain": [
       "   Order ID                   Product  Quantity  Price Each       Order Date  \\\n",
       "0     34352    34in Ultrawide Monitor         1      379.99  4/28/2020 21:47   \n",
       "1     34353     AA Batteries (4-pack)         1        3.84  4/29/2020 06:33   \n",
       "2     34354  Lightning Charging Cable         1       14.95  4/28/2020 16:38   \n",
       "3     34355                    iPhone         1      700.00  4/29/2020 18:08   \n",
       "4     34355          Wired Headphones         1       11.99  4/29/2020 18:08   \n",
       "\n",
       "                           Purchase Address   Sales  Month Month Name  \n",
       "0          4864 Willow St, Dallas, TX 75001  379.99      4      April  \n",
       "1  5103 Jefferson St, Los Angeles, CA 90001    3.84      4      April  \n",
       "2           6451 7th St, Portland, OR 97035   14.95      4      April  \n",
       "3            3785 Main St, Dallas, TX 75001  700.00      4      April  \n",
       "4            3785 Main St, Dallas, TX 75001   11.99      4      April  "
      ]
     },
     "execution_count": 241,
     "metadata": {},
     "output_type": "execute_result"
    }
   ],
   "source": [
    "all_data.head()"
   ]
  },
  {
   "cell_type": "markdown",
   "metadata": {},
   "source": [
    "### Task 4: Add a City column"
   ]
  },
  {
   "cell_type": "code",
   "execution_count": 242,
   "metadata": {},
   "outputs": [
    {
     "data": {
      "text/html": [
       "<div>\n",
       "<style scoped>\n",
       "    .dataframe tbody tr th:only-of-type {\n",
       "        vertical-align: middle;\n",
       "    }\n",
       "\n",
       "    .dataframe tbody tr th {\n",
       "        vertical-align: top;\n",
       "    }\n",
       "\n",
       "    .dataframe thead th {\n",
       "        text-align: right;\n",
       "    }\n",
       "</style>\n",
       "<table border=\"1\" class=\"dataframe\">\n",
       "  <thead>\n",
       "    <tr style=\"text-align: right;\">\n",
       "      <th></th>\n",
       "      <th>Order ID</th>\n",
       "      <th>Product</th>\n",
       "      <th>Quantity</th>\n",
       "      <th>Price Each</th>\n",
       "      <th>Order Date</th>\n",
       "      <th>Purchase Address</th>\n",
       "      <th>Sales</th>\n",
       "      <th>Month</th>\n",
       "      <th>Month Name</th>\n",
       "      <th>City</th>\n",
       "    </tr>\n",
       "  </thead>\n",
       "  <tbody>\n",
       "    <tr>\n",
       "      <th>0</th>\n",
       "      <td>34352</td>\n",
       "      <td>34in Ultrawide Monitor</td>\n",
       "      <td>1</td>\n",
       "      <td>379.99</td>\n",
       "      <td>4/28/2020 21:47</td>\n",
       "      <td>4864 Willow St, Dallas, TX 75001</td>\n",
       "      <td>379.99</td>\n",
       "      <td>4</td>\n",
       "      <td>April</td>\n",
       "      <td>Dallas (TX)</td>\n",
       "    </tr>\n",
       "    <tr>\n",
       "      <th>1</th>\n",
       "      <td>34353</td>\n",
       "      <td>AA Batteries (4-pack)</td>\n",
       "      <td>1</td>\n",
       "      <td>3.84</td>\n",
       "      <td>4/29/2020 06:33</td>\n",
       "      <td>5103 Jefferson St, Los Angeles, CA 90001</td>\n",
       "      <td>3.84</td>\n",
       "      <td>4</td>\n",
       "      <td>April</td>\n",
       "      <td>Los Angeles (CA)</td>\n",
       "    </tr>\n",
       "    <tr>\n",
       "      <th>2</th>\n",
       "      <td>34354</td>\n",
       "      <td>Lightning Charging Cable</td>\n",
       "      <td>1</td>\n",
       "      <td>14.95</td>\n",
       "      <td>4/28/2020 16:38</td>\n",
       "      <td>6451 7th St, Portland, OR 97035</td>\n",
       "      <td>14.95</td>\n",
       "      <td>4</td>\n",
       "      <td>April</td>\n",
       "      <td>Portland (OR)</td>\n",
       "    </tr>\n",
       "    <tr>\n",
       "      <th>3</th>\n",
       "      <td>34355</td>\n",
       "      <td>iPhone</td>\n",
       "      <td>1</td>\n",
       "      <td>700.00</td>\n",
       "      <td>4/29/2020 18:08</td>\n",
       "      <td>3785 Main St, Dallas, TX 75001</td>\n",
       "      <td>700.00</td>\n",
       "      <td>4</td>\n",
       "      <td>April</td>\n",
       "      <td>Dallas (TX)</td>\n",
       "    </tr>\n",
       "    <tr>\n",
       "      <th>4</th>\n",
       "      <td>34355</td>\n",
       "      <td>Wired Headphones</td>\n",
       "      <td>1</td>\n",
       "      <td>11.99</td>\n",
       "      <td>4/29/2020 18:08</td>\n",
       "      <td>3785 Main St, Dallas, TX 75001</td>\n",
       "      <td>11.99</td>\n",
       "      <td>4</td>\n",
       "      <td>April</td>\n",
       "      <td>Dallas (TX)</td>\n",
       "    </tr>\n",
       "  </tbody>\n",
       "</table>\n",
       "</div>"
      ],
      "text/plain": [
       "   Order ID                   Product  Quantity  Price Each       Order Date  \\\n",
       "0     34352    34in Ultrawide Monitor         1      379.99  4/28/2020 21:47   \n",
       "1     34353     AA Batteries (4-pack)         1        3.84  4/29/2020 06:33   \n",
       "2     34354  Lightning Charging Cable         1       14.95  4/28/2020 16:38   \n",
       "3     34355                    iPhone         1      700.00  4/29/2020 18:08   \n",
       "4     34355          Wired Headphones         1       11.99  4/29/2020 18:08   \n",
       "\n",
       "                           Purchase Address   Sales  Month Month Name  \\\n",
       "0          4864 Willow St, Dallas, TX 75001  379.99      4      April   \n",
       "1  5103 Jefferson St, Los Angeles, CA 90001    3.84      4      April   \n",
       "2           6451 7th St, Portland, OR 97035   14.95      4      April   \n",
       "3            3785 Main St, Dallas, TX 75001  700.00      4      April   \n",
       "4            3785 Main St, Dallas, TX 75001   11.99      4      April   \n",
       "\n",
       "                City  \n",
       "0        Dallas (TX)  \n",
       "1   Los Angeles (CA)  \n",
       "2      Portland (OR)  \n",
       "3        Dallas (TX)  \n",
       "4        Dallas (TX)  "
      ]
     },
     "execution_count": 242,
     "metadata": {},
     "output_type": "execute_result"
    }
   ],
   "source": [
    "def get_city(address):\n",
    "    return address.split(\",\")[1]\n",
    "\n",
    "def get_states(address):\n",
    "    return address.split(\",\")[2].split(\" \")[1]\n",
    "\n",
    "all_data['City'] = all_data['Purchase Address'].apply(lambda x: f\"{get_city(x)} ({get_states(x)})\")\n",
    "\n",
    "all_data.head()"
   ]
  },
  {
   "cell_type": "markdown",
   "metadata": {},
   "source": [
    "## Q1: What was the best month for sales? How much was earned that month?"
   ]
  },
  {
   "cell_type": "code",
   "execution_count": 244,
   "metadata": {},
   "outputs": [
    {
     "name": "stdout",
     "output_type": "stream",
     "text": [
      "              Order ID  Quantity    Price Each         Sales   Month\n",
      "Month Name                                                          \n",
      "January       65235374     11039  2.089385e+06  2.101235e+06   10154\n",
      "February     210133931     13807  2.650727e+06  2.662547e+06   25270\n",
      "March        346760950     13283  2.452181e+06  2.468099e+06   36522\n",
      "June         648194012     10553  1.979571e+06  1.991444e+06   57930\n",
      "May          702333509     13533  2.562645e+06  2.574731e+06   62070\n",
      "April        725206624     18691  3.494039e+06  3.513197e+06   68276\n",
      "August       943374138     11377  2.133816e+06  2.145011e+06   83200\n",
      "October     1064768129     10126  1.869906e+06  1.878424e+06   92920\n",
      "July        1151247825     15825  2.939514e+06  2.953269e+06  102319\n",
      "September   1558747225     16573  3.077115e+06  3.095023e+06  136278\n",
      "November    2502300749     21248  3.991029e+06  4.010099e+06  214412\n",
      "December    3780997029     27477  5.238753e+06  5.264387e+06  302868\n"
     ]
    }
   ],
   "source": [
    "results_by_month = all_data.groupby('Month Name').sum().sort_values('Month', ascending=True)\n",
    "print(results_by_month)"
   ]
  },
  {
   "cell_type": "code",
   "execution_count": 245,
   "metadata": {
    "tags": []
   },
   "outputs": [
    {
     "data": {
      "image/png": "[encoded data removed]",
      "text/plain": [
       "<Figure size 432x288 with 1 Axes>"
      ]
     },
     "metadata": {
      "needs_background": "light"
     },
     "output_type": "display_data"
    }
   ],
   "source": [
    "months = results_by_month.index\n",
    "sales = results_by_month['Sales']\n",
    "\n",
    "plt.bar(months, sales)\n",
    "\n",
    "plt.xticks(months, rotation=90)\n",
    "plt.ylabel(\"Sales in USD ($)\")\n",
    "plt.xlabel(\"Months\")\n",
    "plt.show()"
   ]
  },
  {
   "cell_type": "markdown",
   "metadata": {},
   "source": [
    "## Q2: What city had the highest sales?"
   ]
  },
  {
   "cell_type": "code",
   "execution_count": 246,
   "metadata": {},
   "outputs": [
    {
     "data": {
      "text/html": [
       "<div>\n",
       "<style scoped>\n",
       "    .dataframe tbody tr th:only-of-type {\n",
       "        vertical-align: middle;\n",
       "    }\n",
       "\n",
       "    .dataframe tbody tr th {\n",
       "        vertical-align: top;\n",
       "    }\n",
       "\n",
       "    .dataframe thead th {\n",
       "        text-align: right;\n",
       "    }\n",
       "</style>\n",
       "<table border=\"1\" class=\"dataframe\">\n",
       "  <thead>\n",
       "    <tr style=\"text-align: right;\">\n",
       "      <th></th>\n",
       "      <th>Order ID</th>\n",
       "      <th>Quantity</th>\n",
       "      <th>Price Each</th>\n",
       "      <th>Sales</th>\n",
       "      <th>Month</th>\n",
       "    </tr>\n",
       "    <tr>\n",
       "      <th>City</th>\n",
       "      <th></th>\n",
       "      <th></th>\n",
       "      <th></th>\n",
       "      <th></th>\n",
       "      <th></th>\n",
       "    </tr>\n",
       "  </thead>\n",
       "  <tbody>\n",
       "    <tr>\n",
       "      <th>Portland (ME)</th>\n",
       "      <td>185448215</td>\n",
       "      <td>2461</td>\n",
       "      <td>4.840275e+05</td>\n",
       "      <td>4.876121e+05</td>\n",
       "      <td>16096</td>\n",
       "    </tr>\n",
       "    <tr>\n",
       "      <th>Portland (OR)</th>\n",
       "      <td>726473614</td>\n",
       "      <td>9741</td>\n",
       "      <td>1.836141e+06</td>\n",
       "      <td>1.846614e+06</td>\n",
       "      <td>63248</td>\n",
       "    </tr>\n",
       "    <tr>\n",
       "      <th>Austin (TX)</th>\n",
       "      <td>753070682</td>\n",
       "      <td>9957</td>\n",
       "      <td>1.849697e+06</td>\n",
       "      <td>1.859031e+06</td>\n",
       "      <td>65407</td>\n",
       "    </tr>\n",
       "    <tr>\n",
       "      <th>Dallas (TX)</th>\n",
       "      <td>1088126001</td>\n",
       "      <td>14591</td>\n",
       "      <td>2.749860e+06</td>\n",
       "      <td>2.761827e+06</td>\n",
       "      <td>94759</td>\n",
       "    </tr>\n",
       "    <tr>\n",
       "      <th>Seattle (WA)</th>\n",
       "      <td>1084217195</td>\n",
       "      <td>14468</td>\n",
       "      <td>2.775761e+06</td>\n",
       "      <td>2.788772e+06</td>\n",
       "      <td>94403</td>\n",
       "    </tr>\n",
       "    <tr>\n",
       "      <th>Atlanta (GA)</th>\n",
       "      <td>1090712362</td>\n",
       "      <td>14666</td>\n",
       "      <td>2.781563e+06</td>\n",
       "      <td>2.794415e+06</td>\n",
       "      <td>94966</td>\n",
       "    </tr>\n",
       "    <tr>\n",
       "      <th>Boston (MA)</th>\n",
       "      <td>1463778574</td>\n",
       "      <td>19697</td>\n",
       "      <td>3.634545e+06</td>\n",
       "      <td>3.653551e+06</td>\n",
       "      <td>127460</td>\n",
       "    </tr>\n",
       "    <tr>\n",
       "      <th>New York City (NY)</th>\n",
       "      <td>1824618345</td>\n",
       "      <td>24535</td>\n",
       "      <td>4.603416e+06</td>\n",
       "      <td>4.627543e+06</td>\n",
       "      <td>158821</td>\n",
       "    </tr>\n",
       "    <tr>\n",
       "      <th>Los Angeles (CA)</th>\n",
       "      <td>2204200350</td>\n",
       "      <td>29589</td>\n",
       "      <td>5.565583e+06</td>\n",
       "      <td>5.591653e+06</td>\n",
       "      <td>191910</td>\n",
       "    </tr>\n",
       "    <tr>\n",
       "      <th>San Francisco (CA)</th>\n",
       "      <td>3278654157</td>\n",
       "      <td>43827</td>\n",
       "      <td>8.198086e+06</td>\n",
       "      <td>8.246449e+06</td>\n",
       "      <td>285149</td>\n",
       "    </tr>\n",
       "  </tbody>\n",
       "</table>\n",
       "</div>"
      ],
      "text/plain": [
       "                       Order ID  Quantity    Price Each         Sales   Month\n",
       "City                                                                         \n",
       " Portland (ME)        185448215      2461  4.840275e+05  4.876121e+05   16096\n",
       " Portland (OR)        726473614      9741  1.836141e+06  1.846614e+06   63248\n",
       " Austin (TX)          753070682      9957  1.849697e+06  1.859031e+06   65407\n",
       " Dallas (TX)         1088126001     14591  2.749860e+06  2.761827e+06   94759\n",
       " Seattle (WA)        1084217195     14468  2.775761e+06  2.788772e+06   94403\n",
       " Atlanta (GA)        1090712362     14666  2.781563e+06  2.794415e+06   94966\n",
       " Boston (MA)         1463778574     19697  3.634545e+06  3.653551e+06  127460\n",
       " New York City (NY)  1824618345     24535  4.603416e+06  4.627543e+06  158821\n",
       " Los Angeles (CA)    2204200350     29589  5.565583e+06  5.591653e+06  191910\n",
       " San Francisco (CA)  3278654157     43827  8.198086e+06  8.246449e+06  285149"
      ]
     },
     "execution_count": 246,
     "metadata": {},
     "output_type": "execute_result"
    }
   ],
   "source": [
    "results_by_city = all_data.groupby('City').sum().sort_values('Sales', ascending=True)\n",
    "\n",
    "results_by_city"
   ]
  },
  {
   "cell_type": "code",
   "execution_count": 247,
   "metadata": {},
   "outputs": [
    {
     "data": {
      "image/png": "[encoded data removed]",
      "text/plain": [
       "<Figure size 432x288 with 1 Axes>"
      ]
     },
     "metadata": {
      "needs_background": "light"
     },
     "output_type": "display_data"
    }
   ],
   "source": [
    "cities = results_by_city.index\n",
    "sales = results_by_city['Sales']\n",
    "\n",
    "plt.bar(cities, sales)\n",
    "plt.xticks(cities, rotation=90)\n",
    "\n",
    "plt.ylabel(\"Sales in USD ($)\")\n",
    "plt.xlabel(\"City Names\")\n",
    "plt.show()"
   ]
  },
  {
   "cell_type": "markdown",
   "metadata": {},
   "source": [
    "## Q3: What time had the highest sales?"
   ]
  },
  {
   "cell_type": "code",
   "execution_count": 248,
   "metadata": {},
   "outputs": [
    {
     "data": {
      "text/html": [
       "<div>\n",
       "<style scoped>\n",
       "    .dataframe tbody tr th:only-of-type {\n",
       "        vertical-align: middle;\n",
       "    }\n",
       "\n",
       "    .dataframe tbody tr th {\n",
       "        vertical-align: top;\n",
       "    }\n",
       "\n",
       "    .dataframe thead th {\n",
       "        text-align: right;\n",
       "    }\n",
       "</style>\n",
       "<table border=\"1\" class=\"dataframe\">\n",
       "  <thead>\n",
       "    <tr style=\"text-align: right;\">\n",
       "      <th></th>\n",
       "      <th>Order ID</th>\n",
       "      <th>Product</th>\n",
       "      <th>Quantity</th>\n",
       "      <th>Price Each</th>\n",
       "      <th>Order Date</th>\n",
       "      <th>Purchase Address</th>\n",
       "      <th>Sales</th>\n",
       "      <th>Month</th>\n",
       "      <th>Month Name</th>\n",
       "      <th>City</th>\n",
       "      <th>Order Date (datetime)</th>\n",
       "    </tr>\n",
       "  </thead>\n",
       "  <tbody>\n",
       "    <tr>\n",
       "      <th>0</th>\n",
       "      <td>34352</td>\n",
       "      <td>34in Ultrawide Monitor</td>\n",
       "      <td>1</td>\n",
       "      <td>379.99</td>\n",
       "      <td>4/28/2020 21:47</td>\n",
       "      <td>4864 Willow St, Dallas, TX 75001</td>\n",
       "      <td>379.99</td>\n",
       "      <td>4</td>\n",
       "      <td>April</td>\n",
       "      <td>Dallas (TX)</td>\n",
       "      <td>2020-04-28 21:47:00</td>\n",
       "    </tr>\n",
       "    <tr>\n",
       "      <th>1</th>\n",
       "      <td>34353</td>\n",
       "      <td>AA Batteries (4-pack)</td>\n",
       "      <td>1</td>\n",
       "      <td>3.84</td>\n",
       "      <td>4/29/2020 06:33</td>\n",
       "      <td>5103 Jefferson St, Los Angeles, CA 90001</td>\n",
       "      <td>3.84</td>\n",
       "      <td>4</td>\n",
       "      <td>April</td>\n",
       "      <td>Los Angeles (CA)</td>\n",
       "      <td>2020-04-29 06:33:00</td>\n",
       "    </tr>\n",
       "    <tr>\n",
       "      <th>2</th>\n",
       "      <td>34354</td>\n",
       "      <td>Lightning Charging Cable</td>\n",
       "      <td>1</td>\n",
       "      <td>14.95</td>\n",
       "      <td>4/28/2020 16:38</td>\n",
       "      <td>6451 7th St, Portland, OR 97035</td>\n",
       "      <td>14.95</td>\n",
       "      <td>4</td>\n",
       "      <td>April</td>\n",
       "      <td>Portland (OR)</td>\n",
       "      <td>2020-04-28 16:38:00</td>\n",
       "    </tr>\n",
       "    <tr>\n",
       "      <th>3</th>\n",
       "      <td>34355</td>\n",
       "      <td>iPhone</td>\n",
       "      <td>1</td>\n",
       "      <td>700.00</td>\n",
       "      <td>4/29/2020 18:08</td>\n",
       "      <td>3785 Main St, Dallas, TX 75001</td>\n",
       "      <td>700.00</td>\n",
       "      <td>4</td>\n",
       "      <td>April</td>\n",
       "      <td>Dallas (TX)</td>\n",
       "      <td>2020-04-29 18:08:00</td>\n",
       "    </tr>\n",
       "    <tr>\n",
       "      <th>4</th>\n",
       "      <td>34355</td>\n",
       "      <td>Wired Headphones</td>\n",
       "      <td>1</td>\n",
       "      <td>11.99</td>\n",
       "      <td>4/29/2020 18:08</td>\n",
       "      <td>3785 Main St, Dallas, TX 75001</td>\n",
       "      <td>11.99</td>\n",
       "      <td>4</td>\n",
       "      <td>April</td>\n",
       "      <td>Dallas (TX)</td>\n",
       "      <td>2020-04-29 18:08:00</td>\n",
       "    </tr>\n",
       "  </tbody>\n",
       "</table>\n",
       "</div>"
      ],
      "text/plain": [
       "   Order ID                   Product  Quantity  Price Each       Order Date  \\\n",
       "0     34352    34in Ultrawide Monitor         1      379.99  4/28/2020 21:47   \n",
       "1     34353     AA Batteries (4-pack)         1        3.84  4/29/2020 06:33   \n",
       "2     34354  Lightning Charging Cable         1       14.95  4/28/2020 16:38   \n",
       "3     34355                    iPhone         1      700.00  4/29/2020 18:08   \n",
       "4     34355          Wired Headphones         1       11.99  4/29/2020 18:08   \n",
       "\n",
       "                           Purchase Address   Sales  Month Month Name  \\\n",
       "0          4864 Willow St, Dallas, TX 75001  379.99      4      April   \n",
       "1  5103 Jefferson St, Los Angeles, CA 90001    3.84      4      April   \n",
       "2           6451 7th St, Portland, OR 97035   14.95      4      April   \n",
       "3            3785 Main St, Dallas, TX 75001  700.00      4      April   \n",
       "4            3785 Main St, Dallas, TX 75001   11.99      4      April   \n",
       "\n",
       "                City Order Date (datetime)  \n",
       "0        Dallas (TX)   2020-04-28 21:47:00  \n",
       "1   Los Angeles (CA)   2020-04-29 06:33:00  \n",
       "2      Portland (OR)   2020-04-28 16:38:00  \n",
       "3        Dallas (TX)   2020-04-29 18:08:00  \n",
       "4        Dallas (TX)   2020-04-29 18:08:00  "
      ]
     },
     "execution_count": 248,
     "metadata": {},
     "output_type": "execute_result"
    }
   ],
   "source": [
    "all_data['Order Date (datetime)'] = pd.to_datetime(all_data['Order Date'])\n",
    "\n",
    "all_data.head()"
   ]
  },
  {
   "cell_type": "code",
   "execution_count": 250,
   "metadata": {},
   "outputs": [
    {
     "data": {
      "text/html": [
       "<div>\n",
       "<style scoped>\n",
       "    .dataframe tbody tr th:only-of-type {\n",
       "        vertical-align: middle;\n",
       "    }\n",
       "\n",
       "    .dataframe tbody tr th {\n",
       "        vertical-align: top;\n",
       "    }\n",
       "\n",
       "    .dataframe thead th {\n",
       "        text-align: right;\n",
       "    }\n",
       "</style>\n",
       "<table border=\"1\" class=\"dataframe\">\n",
       "  <thead>\n",
       "    <tr style=\"text-align: right;\">\n",
       "      <th></th>\n",
       "      <th>Order ID</th>\n",
       "      <th>Product</th>\n",
       "      <th>Quantity</th>\n",
       "      <th>Price Each</th>\n",
       "      <th>Order Date</th>\n",
       "      <th>Purchase Address</th>\n",
       "      <th>Sales</th>\n",
       "      <th>Month</th>\n",
       "      <th>Month Name</th>\n",
       "      <th>City</th>\n",
       "      <th>Order Date (datetime)</th>\n",
       "      <th>Hour</th>\n",
       "      <th>Day of Week</th>\n",
       "      <th>Day Name</th>\n",
       "    </tr>\n",
       "  </thead>\n",
       "  <tbody>\n",
       "    <tr>\n",
       "      <th>0</th>\n",
       "      <td>34352</td>\n",
       "      <td>34in Ultrawide Monitor</td>\n",
       "      <td>1</td>\n",
       "      <td>379.99</td>\n",
       "      <td>4/28/2020 21:47</td>\n",
       "      <td>4864 Willow St, Dallas, TX 75001</td>\n",
       "      <td>379.99</td>\n",
       "      <td>4</td>\n",
       "      <td>April</td>\n",
       "      <td>Dallas (TX)</td>\n",
       "      <td>2020-04-28 21:47:00</td>\n",
       "      <td>21</td>\n",
       "      <td>1</td>\n",
       "      <td>Tuesday</td>\n",
       "    </tr>\n",
       "    <tr>\n",
       "      <th>1</th>\n",
       "      <td>34353</td>\n",
       "      <td>AA Batteries (4-pack)</td>\n",
       "      <td>1</td>\n",
       "      <td>3.84</td>\n",
       "      <td>4/29/2020 06:33</td>\n",
       "      <td>5103 Jefferson St, Los Angeles, CA 90001</td>\n",
       "      <td>3.84</td>\n",
       "      <td>4</td>\n",
       "      <td>April</td>\n",
       "      <td>Los Angeles (CA)</td>\n",
       "      <td>2020-04-29 06:33:00</td>\n",
       "      <td>6</td>\n",
       "      <td>2</td>\n",
       "      <td>Wednesday</td>\n",
       "    </tr>\n",
       "    <tr>\n",
       "      <th>2</th>\n",
       "      <td>34354</td>\n",
       "      <td>Lightning Charging Cable</td>\n",
       "      <td>1</td>\n",
       "      <td>14.95</td>\n",
       "      <td>4/28/2020 16:38</td>\n",
       "      <td>6451 7th St, Portland, OR 97035</td>\n",
       "      <td>14.95</td>\n",
       "      <td>4</td>\n",
       "      <td>April</td>\n",
       "      <td>Portland (OR)</td>\n",
       "      <td>2020-04-28 16:38:00</td>\n",
       "      <td>16</td>\n",
       "      <td>1</td>\n",
       "      <td>Tuesday</td>\n",
       "    </tr>\n",
       "    <tr>\n",
       "      <th>3</th>\n",
       "      <td>34355</td>\n",
       "      <td>iPhone</td>\n",
       "      <td>1</td>\n",
       "      <td>700.00</td>\n",
       "      <td>4/29/2020 18:08</td>\n",
       "      <td>3785 Main St, Dallas, TX 75001</td>\n",
       "      <td>700.00</td>\n",
       "      <td>4</td>\n",
       "      <td>April</td>\n",
       "      <td>Dallas (TX)</td>\n",
       "      <td>2020-04-29 18:08:00</td>\n",
       "      <td>18</td>\n",
       "      <td>2</td>\n",
       "      <td>Wednesday</td>\n",
       "    </tr>\n",
       "    <tr>\n",
       "      <th>4</th>\n",
       "      <td>34355</td>\n",
       "      <td>Wired Headphones</td>\n",
       "      <td>1</td>\n",
       "      <td>11.99</td>\n",
       "      <td>4/29/2020 18:08</td>\n",
       "      <td>3785 Main St, Dallas, TX 75001</td>\n",
       "      <td>11.99</td>\n",
       "      <td>4</td>\n",
       "      <td>April</td>\n",
       "      <td>Dallas (TX)</td>\n",
       "      <td>2020-04-29 18:08:00</td>\n",
       "      <td>18</td>\n",
       "      <td>2</td>\n",
       "      <td>Wednesday</td>\n",
       "    </tr>\n",
       "  </tbody>\n",
       "</table>\n",
       "</div>"
      ],
      "text/plain": [
       "   Order ID                   Product  Quantity  Price Each       Order Date  \\\n",
       "0     34352    34in Ultrawide Monitor         1      379.99  4/28/2020 21:47   \n",
       "1     34353     AA Batteries (4-pack)         1        3.84  4/29/2020 06:33   \n",
       "2     34354  Lightning Charging Cable         1       14.95  4/28/2020 16:38   \n",
       "3     34355                    iPhone         1      700.00  4/29/2020 18:08   \n",
       "4     34355          Wired Headphones         1       11.99  4/29/2020 18:08   \n",
       "\n",
       "                           Purchase Address   Sales  Month Month Name  \\\n",
       "0          4864 Willow St, Dallas, TX 75001  379.99      4      April   \n",
       "1  5103 Jefferson St, Los Angeles, CA 90001    3.84      4      April   \n",
       "2           6451 7th St, Portland, OR 97035   14.95      4      April   \n",
       "3            3785 Main St, Dallas, TX 75001  700.00      4      April   \n",
       "4            3785 Main St, Dallas, TX 75001   11.99      4      April   \n",
       "\n",
       "                City Order Date (datetime)  Hour  Day of Week   Day Name  \n",
       "0        Dallas (TX)   2020-04-28 21:47:00    21            1    Tuesday  \n",
       "1   Los Angeles (CA)   2020-04-29 06:33:00     6            2  Wednesday  \n",
       "2      Portland (OR)   2020-04-28 16:38:00    16            1    Tuesday  \n",
       "3        Dallas (TX)   2020-04-29 18:08:00    18            2  Wednesday  \n",
       "4        Dallas (TX)   2020-04-29 18:08:00    18            2  Wednesday  "
      ]
     },
     "execution_count": 250,
     "metadata": {},
     "output_type": "execute_result"
    }
   ],
   "source": [
    "all_data['Hour'] = all_data['Order Date (datetime)'].dt.hour\n",
    "\n",
    "all_data['Day of Week'] = all_data['Order Date (datetime)'].dt.dayofweek\n",
    "all_data['Day Name'] = all_data['Order Date (datetime)'].dt.day_name()\n",
    "\n",
    "all_data.head()"
   ]
  },
  {
   "cell_type": "code",
   "execution_count": 257,
   "metadata": {},
   "outputs": [
    {
     "data": {
      "text/plain": [
       "<AxesSubplot:xlabel='Hour', ylabel='Day Name'>"
      ]
     },
     "execution_count": 257,
     "metadata": {},
     "output_type": "execute_result"
    },
    {
     "data": {
      "image/png": "[encoded data removed]",
      "text/plain": [
       "<Figure size 432x288 with 2 Axes>"
      ]
     },
     "metadata": {
      "needs_background": "light"
     },
     "output_type": "display_data"
    }
   ],
   "source": [
    "import seaborn as sns\n",
    "\n",
    "heatmap = all_data.groupby(['Day Name', 'Hour']).sum()['Sales'].unstack()\n",
    "\n",
    "sns.heatmap(heatmap)"
   ]
  },
  {
   "cell_type": "code",
   "execution_count": 495,
   "metadata": {
    "scrolled": true
   },
   "outputs": [
    {
     "data": {
      "image/png": "[encoded data removed]",
      "text/plain": [
       "<Figure size 432x288 with 1 Axes>"
      ]
     },
     "metadata": {
      "needs_background": "light"
     },
     "output_type": "display_data"
    }
   ],
   "source": [
    "results_by_day = all_data.groupby('Day Name').sum().sort_values('Day of Week')\n",
    "\n",
    "days = results_by_day.index\n",
    "\n",
    "sales = results_by_day['Sales']\n",
    "\n",
    "plt.plot(days, sales)\n",
    "\n",
    "plt.xlabel(\"Day\")\n",
    "plt.ylabel(\"Sales in USD ($)\")\n",
    "plt.xticks(days, rotation=90)\n",
    "plt.grid()\n",
    "plt.show()"
   ]
  },
  {
   "cell_type": "code",
   "execution_count": 252,
   "metadata": {},
   "outputs": [
    {
     "data": {
      "image/png": "[encoded data removed]",
      "text/plain": [
       "<Figure size 432x288 with 1 Axes>"
      ]
     },
     "metadata": {
      "needs_background": "light"
     },
     "output_type": "display_data"
    }
   ],
   "source": [
    "results_by_hour = all_data.groupby('Hour').sum().sort_values(['Hour'])\n",
    "\n",
    "\n",
    "hours = results_by_hour.index\n",
    "sales = results_by_hour['Sales']\n",
    "\n",
    "plt.plot(hours, sales)\n",
    "\n",
    "plt.xlabel(\"Hour\")\n",
    "plt.ylabel(\"Sales in USD ($)\")\n",
    "plt.xticks(hours)\n",
    "plt.grid()\n",
    "plt.show()"
   ]
  },
  {
   "cell_type": "code",
   "execution_count": 281,
   "metadata": {
    "scrolled": true
   },
   "outputs": [
    {
     "data": {
      "image/png": "[encoded data removed]",
      "text/plain": [
       "<Figure size 432x288 with 1 Axes>"
      ]
     },
     "metadata": {
      "needs_background": "light"
     },
     "output_type": "display_data"
    }
   ],
   "source": [
    "thursday = all_data.loc[all_data['Day Name'] == \"Thursday\"]\n",
    "\n",
    "results_on_thursday = thursday.groupby('Hour').sum()['Sales']\n",
    "\n",
    "index = results_on_thursday.index\n",
    "\n",
    "plt.plot(results_on_thursday)\n",
    "\n",
    "plt.xticks(index)\n",
    "plt.xlabel(\"Hour\")\n",
    "plt.ylabel(\"Sales on Thursday ($)\")\n",
    "\n",
    "plt.grid()\n",
    "plt.show()"
   ]
  },
  {
   "cell_type": "markdown",
   "metadata": {},
   "source": [
    "The recommendation for advertisement is to target sells on Thursday 20 pm"
   ]
  },
  {
   "cell_type": "markdown",
   "metadata": {},
   "source": [
    "## Q4: Which products are most often sold together?"
   ]
  },
  {
   "cell_type": "code",
   "execution_count": 357,
   "metadata": {},
   "outputs": [
    {
     "name": "stdout",
     "output_type": "stream",
     "text": [
      "14315\n"
     ]
    },
    {
     "data": {
      "text/html": [
       "<div>\n",
       "<style scoped>\n",
       "    .dataframe tbody tr th:only-of-type {\n",
       "        vertical-align: middle;\n",
       "    }\n",
       "\n",
       "    .dataframe tbody tr th {\n",
       "        vertical-align: top;\n",
       "    }\n",
       "\n",
       "    .dataframe thead th {\n",
       "        text-align: right;\n",
       "    }\n",
       "</style>\n",
       "<table border=\"1\" class=\"dataframe\">\n",
       "  <thead>\n",
       "    <tr style=\"text-align: right;\">\n",
       "      <th></th>\n",
       "      <th>Order ID</th>\n",
       "      <th>Product</th>\n",
       "      <th>Quantity</th>\n",
       "      <th>Price Each</th>\n",
       "      <th>Order Date</th>\n",
       "      <th>Purchase Address</th>\n",
       "      <th>Sales</th>\n",
       "      <th>Month</th>\n",
       "      <th>Month Name</th>\n",
       "      <th>City</th>\n",
       "      <th>Order Date (datetime)</th>\n",
       "      <th>Hour</th>\n",
       "      <th>Day of Week</th>\n",
       "      <th>Day Name</th>\n",
       "    </tr>\n",
       "  </thead>\n",
       "  <tbody>\n",
       "    <tr>\n",
       "      <th>3</th>\n",
       "      <td>34355</td>\n",
       "      <td>iPhone</td>\n",
       "      <td>1</td>\n",
       "      <td>700.00</td>\n",
       "      <td>4/29/2020 18:08</td>\n",
       "      <td>3785 Main St, Dallas, TX 75001</td>\n",
       "      <td>700.00</td>\n",
       "      <td>4</td>\n",
       "      <td>April</td>\n",
       "      <td>Dallas (TX)</td>\n",
       "      <td>2020-04-29 18:08:00</td>\n",
       "      <td>18</td>\n",
       "      <td>2</td>\n",
       "      <td>Wednesday</td>\n",
       "    </tr>\n",
       "    <tr>\n",
       "      <th>4</th>\n",
       "      <td>34355</td>\n",
       "      <td>Wired Headphones</td>\n",
       "      <td>1</td>\n",
       "      <td>11.99</td>\n",
       "      <td>4/29/2020 18:08</td>\n",
       "      <td>3785 Main St, Dallas, TX 75001</td>\n",
       "      <td>11.99</td>\n",
       "      <td>4</td>\n",
       "      <td>April</td>\n",
       "      <td>Dallas (TX)</td>\n",
       "      <td>2020-04-29 18:08:00</td>\n",
       "      <td>18</td>\n",
       "      <td>2</td>\n",
       "      <td>Wednesday</td>\n",
       "    </tr>\n",
       "    <tr>\n",
       "      <th>8</th>\n",
       "      <td>34359</td>\n",
       "      <td>Lightning Charging Cable</td>\n",
       "      <td>1</td>\n",
       "      <td>14.95</td>\n",
       "      <td>4/23/2020 13:22</td>\n",
       "      <td>5215 5th St, San Francisco, CA 94016</td>\n",
       "      <td>14.95</td>\n",
       "      <td>4</td>\n",
       "      <td>April</td>\n",
       "      <td>San Francisco (CA)</td>\n",
       "      <td>2020-04-23 13:22:00</td>\n",
       "      <td>13</td>\n",
       "      <td>3</td>\n",
       "      <td>Thursday</td>\n",
       "    </tr>\n",
       "    <tr>\n",
       "      <th>9</th>\n",
       "      <td>34359</td>\n",
       "      <td>Apple Airpods Headphones</td>\n",
       "      <td>1</td>\n",
       "      <td>150.00</td>\n",
       "      <td>4/23/2020 13:22</td>\n",
       "      <td>5215 5th St, San Francisco, CA 94016</td>\n",
       "      <td>150.00</td>\n",
       "      <td>4</td>\n",
       "      <td>April</td>\n",
       "      <td>San Francisco (CA)</td>\n",
       "      <td>2020-04-23 13:22:00</td>\n",
       "      <td>13</td>\n",
       "      <td>3</td>\n",
       "      <td>Thursday</td>\n",
       "    </tr>\n",
       "    <tr>\n",
       "      <th>29</th>\n",
       "      <td>34379</td>\n",
       "      <td>20in Monitor</td>\n",
       "      <td>1</td>\n",
       "      <td>109.99</td>\n",
       "      <td>4/5/2020 14:48</td>\n",
       "      <td>5924 Hill St, Los Angeles, CA 90001</td>\n",
       "      <td>109.99</td>\n",
       "      <td>4</td>\n",
       "      <td>April</td>\n",
       "      <td>Los Angeles (CA)</td>\n",
       "      <td>2020-04-05 14:48:00</td>\n",
       "      <td>14</td>\n",
       "      <td>6</td>\n",
       "      <td>Sunday</td>\n",
       "    </tr>\n",
       "  </tbody>\n",
       "</table>\n",
       "</div>"
      ],
      "text/plain": [
       "    Order ID                   Product  Quantity  Price Each       Order Date  \\\n",
       "3      34355                    iPhone         1      700.00  4/29/2020 18:08   \n",
       "4      34355          Wired Headphones         1       11.99  4/29/2020 18:08   \n",
       "8      34359  Lightning Charging Cable         1       14.95  4/23/2020 13:22   \n",
       "9      34359  Apple Airpods Headphones         1      150.00  4/23/2020 13:22   \n",
       "29     34379              20in Monitor         1      109.99   4/5/2020 14:48   \n",
       "\n",
       "                        Purchase Address   Sales  Month Month Name  \\\n",
       "3         3785 Main St, Dallas, TX 75001  700.00      4      April   \n",
       "4         3785 Main St, Dallas, TX 75001   11.99      4      April   \n",
       "8   5215 5th St, San Francisco, CA 94016   14.95      4      April   \n",
       "9   5215 5th St, San Francisco, CA 94016  150.00      4      April   \n",
       "29   5924 Hill St, Los Angeles, CA 90001  109.99      4      April   \n",
       "\n",
       "                   City Order Date (datetime)  Hour  Day of Week   Day Name  \n",
       "3           Dallas (TX)   2020-04-29 18:08:00    18            2  Wednesday  \n",
       "4           Dallas (TX)   2020-04-29 18:08:00    18            2  Wednesday  \n",
       "8    San Francisco (CA)   2020-04-23 13:22:00    13            3   Thursday  \n",
       "9    San Francisco (CA)   2020-04-23 13:22:00    13            3   Thursday  \n",
       "29     Los Angeles (CA)   2020-04-05 14:48:00    14            6     Sunday  "
      ]
     },
     "execution_count": 357,
     "metadata": {},
     "output_type": "execute_result"
    }
   ],
   "source": [
    "duplicated = all_data.loc[all_data['Order ID'].duplicated(keep=False)]\n",
    "\n",
    "print(len(duplicated))\n",
    "duplicated.head()"
   ]
  },
  {
   "cell_type": "code",
   "execution_count": 358,
   "metadata": {},
   "outputs": [
    {
     "name": "stderr",
     "output_type": "stream",
     "text": [
      "C:\\Users\\user\\AppData\\Roaming\\Python\\Python37\\site-packages\\ipykernel_launcher.py:1: SettingWithCopyWarning: \n",
      "A value is trying to be set on a copy of a slice from a DataFrame.\n",
      "Try using .loc[row_indexer,col_indexer] = value instead\n",
      "\n",
      "See the caveats in the documentation: https://pandas.pydata.org/pandas-docs/stable/user_guide/indexing.html#returning-a-view-versus-a-copy\n",
      "  \"\"\"Entry point for launching an IPython kernel.\n"
     ]
    },
    {
     "data": {
      "text/html": [
       "<div>\n",
       "<style scoped>\n",
       "    .dataframe tbody tr th:only-of-type {\n",
       "        vertical-align: middle;\n",
       "    }\n",
       "\n",
       "    .dataframe tbody tr th {\n",
       "        vertical-align: top;\n",
       "    }\n",
       "\n",
       "    .dataframe thead th {\n",
       "        text-align: right;\n",
       "    }\n",
       "</style>\n",
       "<table border=\"1\" class=\"dataframe\">\n",
       "  <thead>\n",
       "    <tr style=\"text-align: right;\">\n",
       "      <th></th>\n",
       "      <th>Order ID</th>\n",
       "      <th>Product</th>\n",
       "      <th>Quantity</th>\n",
       "      <th>Price Each</th>\n",
       "      <th>Order Date</th>\n",
       "      <th>Purchase Address</th>\n",
       "      <th>Sales</th>\n",
       "      <th>Month</th>\n",
       "      <th>Month Name</th>\n",
       "      <th>City</th>\n",
       "      <th>Order Date (datetime)</th>\n",
       "      <th>Hour</th>\n",
       "      <th>Day of Week</th>\n",
       "      <th>Day Name</th>\n",
       "      <th>Grouped</th>\n",
       "    </tr>\n",
       "  </thead>\n",
       "  <tbody>\n",
       "    <tr>\n",
       "      <th>3</th>\n",
       "      <td>34355</td>\n",
       "      <td>iPhone</td>\n",
       "      <td>1</td>\n",
       "      <td>700.00</td>\n",
       "      <td>4/29/2020 18:08</td>\n",
       "      <td>3785 Main St, Dallas, TX 75001</td>\n",
       "      <td>700.00</td>\n",
       "      <td>4</td>\n",
       "      <td>April</td>\n",
       "      <td>Dallas (TX)</td>\n",
       "      <td>2020-04-29 18:08:00</td>\n",
       "      <td>18</td>\n",
       "      <td>2</td>\n",
       "      <td>Wednesday</td>\n",
       "      <td>iPhone,Wired Headphones</td>\n",
       "    </tr>\n",
       "    <tr>\n",
       "      <th>4</th>\n",
       "      <td>34355</td>\n",
       "      <td>Wired Headphones</td>\n",
       "      <td>1</td>\n",
       "      <td>11.99</td>\n",
       "      <td>4/29/2020 18:08</td>\n",
       "      <td>3785 Main St, Dallas, TX 75001</td>\n",
       "      <td>11.99</td>\n",
       "      <td>4</td>\n",
       "      <td>April</td>\n",
       "      <td>Dallas (TX)</td>\n",
       "      <td>2020-04-29 18:08:00</td>\n",
       "      <td>18</td>\n",
       "      <td>2</td>\n",
       "      <td>Wednesday</td>\n",
       "      <td>iPhone,Wired Headphones</td>\n",
       "    </tr>\n",
       "    <tr>\n",
       "      <th>8</th>\n",
       "      <td>34359</td>\n",
       "      <td>Lightning Charging Cable</td>\n",
       "      <td>1</td>\n",
       "      <td>14.95</td>\n",
       "      <td>4/23/2020 13:22</td>\n",
       "      <td>5215 5th St, San Francisco, CA 94016</td>\n",
       "      <td>14.95</td>\n",
       "      <td>4</td>\n",
       "      <td>April</td>\n",
       "      <td>San Francisco (CA)</td>\n",
       "      <td>2020-04-23 13:22:00</td>\n",
       "      <td>13</td>\n",
       "      <td>3</td>\n",
       "      <td>Thursday</td>\n",
       "      <td>Lightning Charging Cable,Apple Airpods Headphones</td>\n",
       "    </tr>\n",
       "    <tr>\n",
       "      <th>9</th>\n",
       "      <td>34359</td>\n",
       "      <td>Apple Airpods Headphones</td>\n",
       "      <td>1</td>\n",
       "      <td>150.00</td>\n",
       "      <td>4/23/2020 13:22</td>\n",
       "      <td>5215 5th St, San Francisco, CA 94016</td>\n",
       "      <td>150.00</td>\n",
       "      <td>4</td>\n",
       "      <td>April</td>\n",
       "      <td>San Francisco (CA)</td>\n",
       "      <td>2020-04-23 13:22:00</td>\n",
       "      <td>13</td>\n",
       "      <td>3</td>\n",
       "      <td>Thursday</td>\n",
       "      <td>Lightning Charging Cable,Apple Airpods Headphones</td>\n",
       "    </tr>\n",
       "    <tr>\n",
       "      <th>29</th>\n",
       "      <td>34379</td>\n",
       "      <td>20in Monitor</td>\n",
       "      <td>1</td>\n",
       "      <td>109.99</td>\n",
       "      <td>4/5/2020 14:48</td>\n",
       "      <td>5924 Hill St, Los Angeles, CA 90001</td>\n",
       "      <td>109.99</td>\n",
       "      <td>4</td>\n",
       "      <td>April</td>\n",
       "      <td>Los Angeles (CA)</td>\n",
       "      <td>2020-04-05 14:48:00</td>\n",
       "      <td>14</td>\n",
       "      <td>6</td>\n",
       "      <td>Sunday</td>\n",
       "      <td>20in Monitor,Lightning Charging Cable</td>\n",
       "    </tr>\n",
       "  </tbody>\n",
       "</table>\n",
       "</div>"
      ],
      "text/plain": [
       "    Order ID                   Product  Quantity  Price Each       Order Date  \\\n",
       "3      34355                    iPhone         1      700.00  4/29/2020 18:08   \n",
       "4      34355          Wired Headphones         1       11.99  4/29/2020 18:08   \n",
       "8      34359  Lightning Charging Cable         1       14.95  4/23/2020 13:22   \n",
       "9      34359  Apple Airpods Headphones         1      150.00  4/23/2020 13:22   \n",
       "29     34379              20in Monitor         1      109.99   4/5/2020 14:48   \n",
       "\n",
       "                        Purchase Address   Sales  Month Month Name  \\\n",
       "3         3785 Main St, Dallas, TX 75001  700.00      4      April   \n",
       "4         3785 Main St, Dallas, TX 75001   11.99      4      April   \n",
       "8   5215 5th St, San Francisco, CA 94016   14.95      4      April   \n",
       "9   5215 5th St, San Francisco, CA 94016  150.00      4      April   \n",
       "29   5924 Hill St, Los Angeles, CA 90001  109.99      4      April   \n",
       "\n",
       "                   City Order Date (datetime)  Hour  Day of Week   Day Name  \\\n",
       "3           Dallas (TX)   2020-04-29 18:08:00    18            2  Wednesday   \n",
       "4           Dallas (TX)   2020-04-29 18:08:00    18            2  Wednesday   \n",
       "8    San Francisco (CA)   2020-04-23 13:22:00    13            3   Thursday   \n",
       "9    San Francisco (CA)   2020-04-23 13:22:00    13            3   Thursday   \n",
       "29     Los Angeles (CA)   2020-04-05 14:48:00    14            6     Sunday   \n",
       "\n",
       "                                              Grouped  \n",
       "3                             iPhone,Wired Headphones  \n",
       "4                             iPhone,Wired Headphones  \n",
       "8   Lightning Charging Cable,Apple Airpods Headphones  \n",
       "9   Lightning Charging Cable,Apple Airpods Headphones  \n",
       "29              20in Monitor,Lightning Charging Cable  "
      ]
     },
     "execution_count": 358,
     "metadata": {},
     "output_type": "execute_result"
    }
   ],
   "source": [
    "duplicated['Grouped'] = duplicated.groupby('Order ID')['Product'].transform(lambda x: (\",\").join(x))\n",
    "\n",
    "duplicated.head()"
   ]
  },
  {
   "cell_type": "code",
   "execution_count": 360,
   "metadata": {},
   "outputs": [
    {
     "name": "stdout",
     "output_type": "stream",
     "text": [
      "6952\n"
     ]
    },
    {
     "data": {
      "text/plain": [
       "3                               iPhone,Wired Headphones\n",
       "8     Lightning Charging Cable,Apple Airpods Headphones\n",
       "29                20in Monitor,Lightning Charging Cable\n",
       "35       Lightning Charging Cable,AA Batteries (4-pack)\n",
       "53             Thinkpad Laptop,Apple Airpods Headphones\n",
       "Name: Grouped, dtype: object"
      ]
     },
     "execution_count": 360,
     "metadata": {},
     "output_type": "execute_result"
    }
   ],
   "source": [
    "df = duplicated[['Order ID', 'Grouped']].drop_duplicates()\n",
    "print(len(df))\n",
    "df['Grouped'].head()"
   ]
  },
  {
   "cell_type": "code",
   "execution_count": 412,
   "metadata": {},
   "outputs": [
    {
     "data": {
      "text/plain": [
       "[(('Google Phone', 'USB-C Charging Cable'), 1022),\n",
       " (('iPhone', 'Lightning Charging Cable'), 1003),\n",
       " (('iPhone', 'Wired Headphones'), 543),\n",
       " (('iPhone', 'Apple Airpods Headphones'), 398),\n",
       " (('Vareebadd Phone', 'USB-C Charging Cable'), 396),\n",
       " (('Google Phone', 'Wired Headphones'), 373),\n",
       " (('Google Phone', 'Bose SoundSport Headphones'), 230),\n",
       " (('Vareebadd Phone', 'Wired Headphones'), 162),\n",
       " (('USB-C Charging Cable', 'Wired Headphones'), 145),\n",
       " (('Lightning Charging Cable', 'Wired Headphones'), 141)]"
      ]
     },
     "execution_count": 412,
     "metadata": {},
     "output_type": "execute_result"
    }
   ],
   "source": [
    "from itertools import combinations\n",
    "from collections import Counter\n",
    "\n",
    "count = Counter()\n",
    "\n",
    "for row in df['Grouped']:\n",
    "    row_list = row.split(\",\")\n",
    "    count.update(Counter(combinations(row_list, 2)))\n",
    "    \n",
    "count.most_common(10)"
   ]
  },
  {
   "cell_type": "markdown",
   "metadata": {},
   "source": [
    "## Q5: What product sold the most?"
   ]
  },
  {
   "cell_type": "code",
   "execution_count": 496,
   "metadata": {},
   "outputs": [],
   "source": [
    "results_by_product = all_data.groupby('Product').sum().sort_values('Product')"
   ]
  },
  {
   "cell_type": "code",
   "execution_count": 499,
   "metadata": {},
   "outputs": [
    {
     "name": "stderr",
     "output_type": "stream",
     "text": [
      "C:\\Users\\user\\AppData\\Roaming\\Python\\Python37\\site-packages\\ipykernel_launcher.py:16: UserWarning: FixedFormatter should only be used together with FixedLocator\n",
      "  app.launch_new_instance()\n"
     ]
    },
    {
     "data": {
      "image/png": "[encoded data removed]",
      "text/plain": [
       "<Figure size 432x288 with 2 Axes>"
      ]
     },
     "metadata": {
      "needs_background": "light"
     },
     "output_type": "display_data"
    }
   ],
   "source": [
    "products = results_by_product.index\n",
    "quantity = results_by_product['Quantity']\n",
    "price = all_data.groupby('Product').mean().sort_values('Product')['Price Each']\n",
    "\n",
    "fig, ax1 = plt.subplots()\n",
    "\n",
    "ax2 = ax1.twinx()\n",
    "\n",
    "ax1.bar(products, quantity)\n",
    "ax2.plot(products, price, 'g')\n",
    "\n",
    "ax1.set_xlabel(\"Product\")\n",
    "ax1.set_ylabel(\"Quantity\", color='b')\n",
    "ax2.set_ylabel(\"Price ($)\", color='g')\n",
    "\n",
    "ax1.set_xticklabels(products, rotation=90)\n",
    "\n",
    "plt.show()"
   ]
  },
  {
   "cell_type": "code",
   "execution_count": 500,
   "metadata": {},
   "outputs": [
    {
     "name": "stderr",
     "output_type": "stream",
     "text": [
      "C:\\Users\\user\\AppData\\Roaming\\Python\\Python37\\site-packages\\ipykernel_launcher.py:16: UserWarning: FixedFormatter should only be used together with FixedLocator\n",
      "  app.launch_new_instance()\n"
     ]
    },
    {
     "data": {
      "image/png": "[encoded data removed]",
      "text/plain": [
       "<Figure size 432x288 with 2 Axes>"
      ]
     },
     "metadata": {
      "needs_background": "light"
     },
     "output_type": "display_data"
    }
   ],
   "source": [
    "products = results_by_product.index\n",
    "sales = results_by_product['Sales']\n",
    "quantity = results_by_product['Quantity']\n",
    "\n",
    "fig, ax1 = plt.subplots()\n",
    "\n",
    "ax2 = ax1.twinx()\n",
    "\n",
    "ax1.bar(products, quantity)\n",
    "ax2.plot(products, sales, 'g')\n",
    "\n",
    "ax1.set_xlabel(\"Product\")\n",
    "ax1.set_ylabel(\"Quantity\", color='b')\n",
    "ax2.set_ylabel(\"Sales in million USD ($)\", color='g')\n",
    "\n",
    "ax1.set_xticklabels(products, rotation=90)\n",
    "\n",
    "plt.show()"
   ]
  }
 ],
 "metadata": {
  "kernelspec": {
   "display_name": "Python 3",
   "language": "python",
   "name": "python3"
  },
  "language_info": {
   "codemirror_mode": {
    "name": "ipython",
    "version": 3
   },
   "file_extension": ".py",
   "mimetype": "text/x-python",
   "name": "python",
   "nbconvert_exporter": "python",
   "pygments_lexer": "ipython3",
   "version": "3.7.9"
  }
 },
 "nbformat": 4,
 "nbformat_minor": 4
}
