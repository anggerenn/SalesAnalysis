{
 "cells": [
  {
   "cell_type": "markdown",
   "metadata": {},
   "source": [
    "# Sales Analysis"
   ]
  },
  {
   "cell_type": "markdown",
   "metadata": {},
   "source": [
    "#### Import necessary library"
   ]
  },
  {
   "cell_type": "code",
   "execution_count": 1,
   "metadata": {
    "scrolled": true
   },
   "outputs": [],
   "source": [
    "import os\n",
    "import pandas as pd\n",
    "import matplotlib.pyplot as plt\n",
    "import seaborn as sns\n",
    "from itertools import combinations\n",
    "from collections import Counter"
   ]
  },
  {
   "cell_type": "markdown",
   "metadata": {},
   "source": [
    "### Task 0.1: Merge all files into one csv file"
   ]
  },
  {
   "cell_type": "code",
   "execution_count": 2,
   "metadata": {},
   "outputs": [
    {
     "name": "stdout",
     "output_type": "stream",
     "text": [
      "<class 'pandas.core.frame.DataFrame'>\n",
      "Int64Index: 168283 entries, 0 to 15147\n",
      "Data columns (total 6 columns):\n",
      " #   Column            Non-Null Count   Dtype  \n",
      "---  ------            --------------   -----  \n",
      " 0   Order ID          168283 non-null  int64  \n",
      " 1   Product           168283 non-null  object \n",
      " 2   Quantity          168283 non-null  int64  \n",
      " 3   Price Each        168283 non-null  float64\n",
      " 4   Order Date        168283 non-null  object \n",
      " 5   Purchase Address  168283 non-null  object \n",
      "dtypes: float64(1), int64(2), object(3)\n",
      "memory usage: 9.0+ MB\n"
     ]
    }
   ],
   "source": [
    "path = \"./data/\"\n",
    "\n",
    "files = [file for file in os.listdir(path) if file.startswith(\"Sales\") and file.endswith(\".csv\")] # only choose csv files\n",
    "\n",
    "grouped = pd.DataFrame()\n",
    "\n",
    "for file in files:\n",
    "    current_data = pd.read_csv(path+file)\n",
    "    grouped = pd.concat([grouped, current_data])\n",
    "    \n",
    "grouped.drop(columns='Unnamed: 0', inplace=True)\n",
    "\n",
    "grouped.info()"
   ]
  },
  {
   "cell_type": "markdown",
   "metadata": {},
   "source": [
    "#### Rename and fixed the data type"
   ]
  },
  {
   "cell_type": "code",
   "execution_count": 3,
   "metadata": {},
   "outputs": [
    {
     "data": {
      "text/html": [
       "<div>\n",
       "<style scoped>\n",
       "    .dataframe tbody tr th:only-of-type {\n",
       "        vertical-align: middle;\n",
       "    }\n",
       "\n",
       "    .dataframe tbody tr th {\n",
       "        vertical-align: top;\n",
       "    }\n",
       "\n",
       "    .dataframe thead th {\n",
       "        text-align: right;\n",
       "    }\n",
       "</style>\n",
       "<table border=\"1\" class=\"dataframe\">\n",
       "  <thead>\n",
       "    <tr style=\"text-align: right;\">\n",
       "      <th></th>\n",
       "      <th>ID</th>\n",
       "      <th>User ID</th>\n",
       "      <th>Product</th>\n",
       "      <th>Quantity</th>\n",
       "      <th>Price Each</th>\n",
       "      <th>Order Date</th>\n",
       "      <th>Purchase Address</th>\n",
       "    </tr>\n",
       "  </thead>\n",
       "  <tbody>\n",
       "    <tr>\n",
       "      <th>0</th>\n",
       "      <td>1</td>\n",
       "      <td>34352</td>\n",
       "      <td>34in Ultrawide Monitor</td>\n",
       "      <td>1</td>\n",
       "      <td>379.99</td>\n",
       "      <td>2020-04-28 21:47:00</td>\n",
       "      <td>4864 Willow St, Dallas, TX 75001</td>\n",
       "    </tr>\n",
       "    <tr>\n",
       "      <th>1</th>\n",
       "      <td>2</td>\n",
       "      <td>34353</td>\n",
       "      <td>AA Batteries (4-pack)</td>\n",
       "      <td>1</td>\n",
       "      <td>3.84</td>\n",
       "      <td>2020-04-29 06:33:00</td>\n",
       "      <td>5103 Jefferson St, Los Angeles, CA 90001</td>\n",
       "    </tr>\n",
       "    <tr>\n",
       "      <th>2</th>\n",
       "      <td>3</td>\n",
       "      <td>34354</td>\n",
       "      <td>Lightning Charging Cable</td>\n",
       "      <td>1</td>\n",
       "      <td>14.95</td>\n",
       "      <td>2020-04-28 16:38:00</td>\n",
       "      <td>6451 7th St, Portland, OR 97035</td>\n",
       "    </tr>\n",
       "    <tr>\n",
       "      <th>3</th>\n",
       "      <td>4</td>\n",
       "      <td>34355</td>\n",
       "      <td>iPhone</td>\n",
       "      <td>1</td>\n",
       "      <td>700.00</td>\n",
       "      <td>2020-04-29 18:08:00</td>\n",
       "      <td>3785 Main St, Dallas, TX 75001</td>\n",
       "    </tr>\n",
       "    <tr>\n",
       "      <th>4</th>\n",
       "      <td>5</td>\n",
       "      <td>34355</td>\n",
       "      <td>Wired Headphones</td>\n",
       "      <td>1</td>\n",
       "      <td>11.99</td>\n",
       "      <td>2020-04-29 18:08:00</td>\n",
       "      <td>3785 Main St, Dallas, TX 75001</td>\n",
       "    </tr>\n",
       "  </tbody>\n",
       "</table>\n",
       "</div>"
      ],
      "text/plain": [
       "   ID  User ID                   Product  Quantity  Price Each  \\\n",
       "0   1    34352    34in Ultrawide Monitor         1      379.99   \n",
       "1   2    34353     AA Batteries (4-pack)         1        3.84   \n",
       "2   3    34354  Lightning Charging Cable         1       14.95   \n",
       "3   4    34355                    iPhone         1      700.00   \n",
       "4   5    34355          Wired Headphones         1       11.99   \n",
       "\n",
       "           Order Date                          Purchase Address  \n",
       "0 2020-04-28 21:47:00          4864 Willow St, Dallas, TX 75001  \n",
       "1 2020-04-29 06:33:00  5103 Jefferson St, Los Angeles, CA 90001  \n",
       "2 2020-04-28 16:38:00           6451 7th St, Portland, OR 97035  \n",
       "3 2020-04-29 18:08:00            3785 Main St, Dallas, TX 75001  \n",
       "4 2020-04-29 18:08:00            3785 Main St, Dallas, TX 75001  "
      ]
     },
     "execution_count": 3,
     "metadata": {},
     "output_type": "execute_result"
    }
   ],
   "source": [
    "purchase_id = []\n",
    "\n",
    "for i in range(1, len(grouped)+1):\n",
    "    purchase_id.append(i)\n",
    "    \n",
    "grouped['ID'] = purchase_id\n",
    "grouped.rename(columns={\"Order ID\": \"User ID\"}, inplace=True)\n",
    "grouped['Order Date'] = pd.to_datetime(grouped['Order Date'])\n",
    "\n",
    "cols = grouped.columns.tolist()\n",
    "\n",
    "cols = cols[-1:] + cols[:-1]\n",
    "grouped = grouped[cols]\n",
    "\n",
    "grouped.head()"
   ]
  },
  {
   "cell_type": "markdown",
   "metadata": {},
   "source": [
    "## Q1: What was the best month for sales? How much was earned that month?"
   ]
  },
  {
   "cell_type": "markdown",
   "metadata": {},
   "source": [
    "### Task 1.1: Add a Sales column"
   ]
  },
  {
   "cell_type": "code",
   "execution_count": 4,
   "metadata": {
    "scrolled": false
   },
   "outputs": [
    {
     "name": "stdout",
     "output_type": "stream",
     "text": [
      "<class 'pandas.core.frame.DataFrame'>\n",
      "Int64Index: 168283 entries, 0 to 15147\n",
      "Data columns (total 8 columns):\n",
      " #   Column            Non-Null Count   Dtype         \n",
      "---  ------            --------------   -----         \n",
      " 0   ID                168283 non-null  int64         \n",
      " 1   User ID           168283 non-null  int64         \n",
      " 2   Product           168283 non-null  object        \n",
      " 3   Quantity          168283 non-null  int64         \n",
      " 4   Price Each        168283 non-null  float64       \n",
      " 5   Order Date        168283 non-null  datetime64[ns]\n",
      " 6   Purchase Address  168283 non-null  object        \n",
      " 7   Sales             168283 non-null  float64       \n",
      "dtypes: datetime64[ns](1), float64(2), int64(3), object(2)\n",
      "memory usage: 11.6+ MB\n",
      "None\n"
     ]
    },
    {
     "data": {
      "text/html": [
       "<div>\n",
       "<style scoped>\n",
       "    .dataframe tbody tr th:only-of-type {\n",
       "        vertical-align: middle;\n",
       "    }\n",
       "\n",
       "    .dataframe tbody tr th {\n",
       "        vertical-align: top;\n",
       "    }\n",
       "\n",
       "    .dataframe thead th {\n",
       "        text-align: right;\n",
       "    }\n",
       "</style>\n",
       "<table border=\"1\" class=\"dataframe\">\n",
       "  <thead>\n",
       "    <tr style=\"text-align: right;\">\n",
       "      <th></th>\n",
       "      <th>ID</th>\n",
       "      <th>User ID</th>\n",
       "      <th>Product</th>\n",
       "      <th>Quantity</th>\n",
       "      <th>Price Each</th>\n",
       "      <th>Order Date</th>\n",
       "      <th>Purchase Address</th>\n",
       "      <th>Sales</th>\n",
       "    </tr>\n",
       "  </thead>\n",
       "  <tbody>\n",
       "    <tr>\n",
       "      <th>0</th>\n",
       "      <td>1</td>\n",
       "      <td>34352</td>\n",
       "      <td>34in Ultrawide Monitor</td>\n",
       "      <td>1</td>\n",
       "      <td>379.99</td>\n",
       "      <td>2020-04-28 21:47:00</td>\n",
       "      <td>4864 Willow St, Dallas, TX 75001</td>\n",
       "      <td>379.99</td>\n",
       "    </tr>\n",
       "    <tr>\n",
       "      <th>1</th>\n",
       "      <td>2</td>\n",
       "      <td>34353</td>\n",
       "      <td>AA Batteries (4-pack)</td>\n",
       "      <td>1</td>\n",
       "      <td>3.84</td>\n",
       "      <td>2020-04-29 06:33:00</td>\n",
       "      <td>5103 Jefferson St, Los Angeles, CA 90001</td>\n",
       "      <td>3.84</td>\n",
       "    </tr>\n",
       "    <tr>\n",
       "      <th>2</th>\n",
       "      <td>3</td>\n",
       "      <td>34354</td>\n",
       "      <td>Lightning Charging Cable</td>\n",
       "      <td>1</td>\n",
       "      <td>14.95</td>\n",
       "      <td>2020-04-28 16:38:00</td>\n",
       "      <td>6451 7th St, Portland, OR 97035</td>\n",
       "      <td>14.95</td>\n",
       "    </tr>\n",
       "    <tr>\n",
       "      <th>3</th>\n",
       "      <td>4</td>\n",
       "      <td>34355</td>\n",
       "      <td>iPhone</td>\n",
       "      <td>1</td>\n",
       "      <td>700.00</td>\n",
       "      <td>2020-04-29 18:08:00</td>\n",
       "      <td>3785 Main St, Dallas, TX 75001</td>\n",
       "      <td>700.00</td>\n",
       "    </tr>\n",
       "    <tr>\n",
       "      <th>4</th>\n",
       "      <td>5</td>\n",
       "      <td>34355</td>\n",
       "      <td>Wired Headphones</td>\n",
       "      <td>1</td>\n",
       "      <td>11.99</td>\n",
       "      <td>2020-04-29 18:08:00</td>\n",
       "      <td>3785 Main St, Dallas, TX 75001</td>\n",
       "      <td>11.99</td>\n",
       "    </tr>\n",
       "  </tbody>\n",
       "</table>\n",
       "</div>"
      ],
      "text/plain": [
       "   ID  User ID                   Product  Quantity  Price Each  \\\n",
       "0   1    34352    34in Ultrawide Monitor         1      379.99   \n",
       "1   2    34353     AA Batteries (4-pack)         1        3.84   \n",
       "2   3    34354  Lightning Charging Cable         1       14.95   \n",
       "3   4    34355                    iPhone         1      700.00   \n",
       "4   5    34355          Wired Headphones         1       11.99   \n",
       "\n",
       "           Order Date                          Purchase Address   Sales  \n",
       "0 2020-04-28 21:47:00          4864 Willow St, Dallas, TX 75001  379.99  \n",
       "1 2020-04-29 06:33:00  5103 Jefferson St, Los Angeles, CA 90001    3.84  \n",
       "2 2020-04-28 16:38:00           6451 7th St, Portland, OR 97035   14.95  \n",
       "3 2020-04-29 18:08:00            3785 Main St, Dallas, TX 75001  700.00  \n",
       "4 2020-04-29 18:08:00            3785 Main St, Dallas, TX 75001   11.99  "
      ]
     },
     "execution_count": 4,
     "metadata": {},
     "output_type": "execute_result"
    }
   ],
   "source": [
    "grouped['Sales'] = grouped['Price Each'] * grouped['Quantity']\n",
    "\n",
    "print(grouped.info())\n",
    "grouped.head()"
   ]
  },
  {
   "cell_type": "markdown",
   "metadata": {},
   "source": [
    "### Task 1.2: Add a Month column"
   ]
  },
  {
   "cell_type": "code",
   "execution_count": 5,
   "metadata": {
    "scrolled": true
   },
   "outputs": [
    {
     "data": {
      "text/html": [
       "<div>\n",
       "<style scoped>\n",
       "    .dataframe tbody tr th:only-of-type {\n",
       "        vertical-align: middle;\n",
       "    }\n",
       "\n",
       "    .dataframe tbody tr th {\n",
       "        vertical-align: top;\n",
       "    }\n",
       "\n",
       "    .dataframe thead th {\n",
       "        text-align: right;\n",
       "    }\n",
       "</style>\n",
       "<table border=\"1\" class=\"dataframe\">\n",
       "  <thead>\n",
       "    <tr style=\"text-align: right;\">\n",
       "      <th></th>\n",
       "      <th>ID</th>\n",
       "      <th>User ID</th>\n",
       "      <th>Product</th>\n",
       "      <th>Quantity</th>\n",
       "      <th>Price Each</th>\n",
       "      <th>Order Date</th>\n",
       "      <th>Purchase Address</th>\n",
       "      <th>Sales</th>\n",
       "      <th>Month</th>\n",
       "      <th>Month Name</th>\n",
       "    </tr>\n",
       "  </thead>\n",
       "  <tbody>\n",
       "    <tr>\n",
       "      <th>0</th>\n",
       "      <td>1</td>\n",
       "      <td>34352</td>\n",
       "      <td>34in Ultrawide Monitor</td>\n",
       "      <td>1</td>\n",
       "      <td>379.99</td>\n",
       "      <td>2020-04-28 21:47:00</td>\n",
       "      <td>4864 Willow St, Dallas, TX 75001</td>\n",
       "      <td>379.99</td>\n",
       "      <td>4</td>\n",
       "      <td>Apr</td>\n",
       "    </tr>\n",
       "    <tr>\n",
       "      <th>1</th>\n",
       "      <td>2</td>\n",
       "      <td>34353</td>\n",
       "      <td>AA Batteries (4-pack)</td>\n",
       "      <td>1</td>\n",
       "      <td>3.84</td>\n",
       "      <td>2020-04-29 06:33:00</td>\n",
       "      <td>5103 Jefferson St, Los Angeles, CA 90001</td>\n",
       "      <td>3.84</td>\n",
       "      <td>4</td>\n",
       "      <td>Apr</td>\n",
       "    </tr>\n",
       "    <tr>\n",
       "      <th>2</th>\n",
       "      <td>3</td>\n",
       "      <td>34354</td>\n",
       "      <td>Lightning Charging Cable</td>\n",
       "      <td>1</td>\n",
       "      <td>14.95</td>\n",
       "      <td>2020-04-28 16:38:00</td>\n",
       "      <td>6451 7th St, Portland, OR 97035</td>\n",
       "      <td>14.95</td>\n",
       "      <td>4</td>\n",
       "      <td>Apr</td>\n",
       "    </tr>\n",
       "    <tr>\n",
       "      <th>3</th>\n",
       "      <td>4</td>\n",
       "      <td>34355</td>\n",
       "      <td>iPhone</td>\n",
       "      <td>1</td>\n",
       "      <td>700.00</td>\n",
       "      <td>2020-04-29 18:08:00</td>\n",
       "      <td>3785 Main St, Dallas, TX 75001</td>\n",
       "      <td>700.00</td>\n",
       "      <td>4</td>\n",
       "      <td>Apr</td>\n",
       "    </tr>\n",
       "    <tr>\n",
       "      <th>4</th>\n",
       "      <td>5</td>\n",
       "      <td>34355</td>\n",
       "      <td>Wired Headphones</td>\n",
       "      <td>1</td>\n",
       "      <td>11.99</td>\n",
       "      <td>2020-04-29 18:08:00</td>\n",
       "      <td>3785 Main St, Dallas, TX 75001</td>\n",
       "      <td>11.99</td>\n",
       "      <td>4</td>\n",
       "      <td>Apr</td>\n",
       "    </tr>\n",
       "  </tbody>\n",
       "</table>\n",
       "</div>"
      ],
      "text/plain": [
       "   ID  User ID                   Product  Quantity  Price Each  \\\n",
       "0   1    34352    34in Ultrawide Monitor         1      379.99   \n",
       "1   2    34353     AA Batteries (4-pack)         1        3.84   \n",
       "2   3    34354  Lightning Charging Cable         1       14.95   \n",
       "3   4    34355                    iPhone         1      700.00   \n",
       "4   5    34355          Wired Headphones         1       11.99   \n",
       "\n",
       "           Order Date                          Purchase Address   Sales  \\\n",
       "0 2020-04-28 21:47:00          4864 Willow St, Dallas, TX 75001  379.99   \n",
       "1 2020-04-29 06:33:00  5103 Jefferson St, Los Angeles, CA 90001    3.84   \n",
       "2 2020-04-28 16:38:00           6451 7th St, Portland, OR 97035   14.95   \n",
       "3 2020-04-29 18:08:00            3785 Main St, Dallas, TX 75001  700.00   \n",
       "4 2020-04-29 18:08:00            3785 Main St, Dallas, TX 75001   11.99   \n",
       "\n",
       "   Month Month Name  \n",
       "0      4        Apr  \n",
       "1      4        Apr  \n",
       "2      4        Apr  \n",
       "3      4        Apr  \n",
       "4      4        Apr  "
      ]
     },
     "execution_count": 5,
     "metadata": {},
     "output_type": "execute_result"
    }
   ],
   "source": [
    "grouped['Month'] = grouped['Order Date'].dt.month\n",
    "grouped['Month Name'] = grouped['Order Date'].dt.strftime(\"%b\")\n",
    "\n",
    "grouped.head()"
   ]
  },
  {
   "cell_type": "markdown",
   "metadata": {},
   "source": [
    "### Task 1.3: Calculate and Plot sales by month"
   ]
  },
  {
   "cell_type": "markdown",
   "metadata": {},
   "source": [
    "#### Create graph plotting function"
   ]
  },
  {
   "cell_type": "code",
   "execution_count": 6,
   "metadata": {},
   "outputs": [],
   "source": [
    "def graph_plot(df, title, xlabel, ylabel, xdeg=0, kind='bar'):\n",
    "    set_kind = kind\n",
    "    \n",
    "    plt.figure()\n",
    "    plt.title(str(title) + \" Graph\")\n",
    "    df.plot(kind=kind)\n",
    "    \n",
    "    plt.ticklabel_format(style='plain', axis='y')\n",
    "    \n",
    "    plt.ylabel(ylabel)\n",
    "    plt.xlabel(xlabel)\n",
    "    \n",
    "    if set_kind == 'line':\n",
    "        plt.grid()\n",
    "    \n",
    "    plt.show()\n",
    "    plt.gca()\n",
    "    plt.cla()\n",
    "    plt.gcf()\n",
    "    plt.clf()\n",
    "    plt.close()"
   ]
  },
  {
   "cell_type": "code",
   "execution_count": 7,
   "metadata": {
    "scrolled": true
   },
   "outputs": [
    {
     "name": "stdout",
     "output_type": "stream",
     "text": [
      "Month Name\n",
      "Jan    2.101235e+06\n",
      "Feb    2.662547e+06\n",
      "Mar    2.468099e+06\n",
      "Jun    1.991444e+06\n",
      "May    2.574731e+06\n",
      "Apr    3.513197e+06\n",
      "Aug    2.145011e+06\n",
      "Oct    1.878424e+06\n",
      "Jul    2.953269e+06\n",
      "Sep    3.095023e+06\n",
      "Nov    4.010099e+06\n",
      "Dec    5.264387e+06\n",
      "Name: Sales, dtype: float64\n"
     ]
    },
    {
     "data": {
      "image/png": "[encoded data removed]",
      "text/plain": [
       "<Figure size 432x288 with 1 Axes>"
      ]
     },
     "metadata": {
      "needs_background": "light"
     },
     "output_type": "display_data"
    }
   ],
   "source": [
    "sales_by_month = grouped.groupby('Month Name').sum().sort_values('Month', ascending=True)['Sales']\n",
    "    \n",
    "print(sales_by_month)\n",
    "\n",
    "graph_plot(sales_by_month, \"Sales by Month\", \"Month\", \"Sales in USD ($)\", xdeg=0)"
   ]
  },
  {
   "cell_type": "markdown",
   "metadata": {},
   "source": [
    "## Q2: Which city had the highest sales?"
   ]
  },
  {
   "cell_type": "markdown",
   "metadata": {},
   "source": [
    "### Task 2.1: Breakdown Address column"
   ]
  },
  {
   "cell_type": "code",
   "execution_count": 8,
   "metadata": {},
   "outputs": [
    {
     "name": "stdout",
     "output_type": "stream",
     "text": [
      "<class 'pandas.core.frame.DataFrame'>\n",
      "Int64Index: 168283 entries, 0 to 15147\n",
      "Data columns (total 15 columns):\n",
      " #   Column            Non-Null Count   Dtype         \n",
      "---  ------            --------------   -----         \n",
      " 0   ID                168283 non-null  int64         \n",
      " 1   User ID           168283 non-null  int64         \n",
      " 2   Product           168283 non-null  object        \n",
      " 3   Quantity          168283 non-null  int64         \n",
      " 4   Price Each        168283 non-null  float64       \n",
      " 5   Order Date        168283 non-null  datetime64[ns]\n",
      " 6   Purchase Address  168283 non-null  object        \n",
      " 7   Sales             168283 non-null  float64       \n",
      " 8   Month             168283 non-null  int64         \n",
      " 9   Month Name        168283 non-null  object        \n",
      " 10  Street            168283 non-null  object        \n",
      " 11  City-State        168283 non-null  object        \n",
      " 12  City              168283 non-null  object        \n",
      " 13  States            168283 non-null  object        \n",
      " 14  Zipcode           168283 non-null  object        \n",
      "dtypes: datetime64[ns](1), float64(2), int64(4), object(8)\n",
      "memory usage: 20.5+ MB\n",
      "None\n"
     ]
    },
    {
     "data": {
      "text/html": [
       "<div>\n",
       "<style scoped>\n",
       "    .dataframe tbody tr th:only-of-type {\n",
       "        vertical-align: middle;\n",
       "    }\n",
       "\n",
       "    .dataframe tbody tr th {\n",
       "        vertical-align: top;\n",
       "    }\n",
       "\n",
       "    .dataframe thead th {\n",
       "        text-align: right;\n",
       "    }\n",
       "</style>\n",
       "<table border=\"1\" class=\"dataframe\">\n",
       "  <thead>\n",
       "    <tr style=\"text-align: right;\">\n",
       "      <th></th>\n",
       "      <th>ID</th>\n",
       "      <th>User ID</th>\n",
       "      <th>Product</th>\n",
       "      <th>Quantity</th>\n",
       "      <th>Price Each</th>\n",
       "      <th>Order Date</th>\n",
       "      <th>Purchase Address</th>\n",
       "      <th>Sales</th>\n",
       "      <th>Month</th>\n",
       "      <th>Month Name</th>\n",
       "      <th>Street</th>\n",
       "      <th>City-State</th>\n",
       "      <th>City</th>\n",
       "      <th>States</th>\n",
       "      <th>Zipcode</th>\n",
       "    </tr>\n",
       "  </thead>\n",
       "  <tbody>\n",
       "    <tr>\n",
       "      <th>0</th>\n",
       "      <td>1</td>\n",
       "      <td>34352</td>\n",
       "      <td>34in Ultrawide Monitor</td>\n",
       "      <td>1</td>\n",
       "      <td>379.99</td>\n",
       "      <td>2020-04-28 21:47:00</td>\n",
       "      <td>4864 Willow St, Dallas, TX 75001</td>\n",
       "      <td>379.99</td>\n",
       "      <td>4</td>\n",
       "      <td>Apr</td>\n",
       "      <td>4864 Willow St</td>\n",
       "      <td>Dallas (TX)</td>\n",
       "      <td>Dallas</td>\n",
       "      <td>TX</td>\n",
       "      <td>75001</td>\n",
       "    </tr>\n",
       "    <tr>\n",
       "      <th>1</th>\n",
       "      <td>2</td>\n",
       "      <td>34353</td>\n",
       "      <td>AA Batteries (4-pack)</td>\n",
       "      <td>1</td>\n",
       "      <td>3.84</td>\n",
       "      <td>2020-04-29 06:33:00</td>\n",
       "      <td>5103 Jefferson St, Los Angeles, CA 90001</td>\n",
       "      <td>3.84</td>\n",
       "      <td>4</td>\n",
       "      <td>Apr</td>\n",
       "      <td>5103 Jefferson St</td>\n",
       "      <td>Los Angeles (CA)</td>\n",
       "      <td>Los Angeles</td>\n",
       "      <td>CA</td>\n",
       "      <td>90001</td>\n",
       "    </tr>\n",
       "    <tr>\n",
       "      <th>2</th>\n",
       "      <td>3</td>\n",
       "      <td>34354</td>\n",
       "      <td>Lightning Charging Cable</td>\n",
       "      <td>1</td>\n",
       "      <td>14.95</td>\n",
       "      <td>2020-04-28 16:38:00</td>\n",
       "      <td>6451 7th St, Portland, OR 97035</td>\n",
       "      <td>14.95</td>\n",
       "      <td>4</td>\n",
       "      <td>Apr</td>\n",
       "      <td>6451 7th St</td>\n",
       "      <td>Portland (OR)</td>\n",
       "      <td>Portland</td>\n",
       "      <td>OR</td>\n",
       "      <td>97035</td>\n",
       "    </tr>\n",
       "    <tr>\n",
       "      <th>3</th>\n",
       "      <td>4</td>\n",
       "      <td>34355</td>\n",
       "      <td>iPhone</td>\n",
       "      <td>1</td>\n",
       "      <td>700.00</td>\n",
       "      <td>2020-04-29 18:08:00</td>\n",
       "      <td>3785 Main St, Dallas, TX 75001</td>\n",
       "      <td>700.00</td>\n",
       "      <td>4</td>\n",
       "      <td>Apr</td>\n",
       "      <td>3785 Main St</td>\n",
       "      <td>Dallas (TX)</td>\n",
       "      <td>Dallas</td>\n",
       "      <td>TX</td>\n",
       "      <td>75001</td>\n",
       "    </tr>\n",
       "    <tr>\n",
       "      <th>4</th>\n",
       "      <td>5</td>\n",
       "      <td>34355</td>\n",
       "      <td>Wired Headphones</td>\n",
       "      <td>1</td>\n",
       "      <td>11.99</td>\n",
       "      <td>2020-04-29 18:08:00</td>\n",
       "      <td>3785 Main St, Dallas, TX 75001</td>\n",
       "      <td>11.99</td>\n",
       "      <td>4</td>\n",
       "      <td>Apr</td>\n",
       "      <td>3785 Main St</td>\n",
       "      <td>Dallas (TX)</td>\n",
       "      <td>Dallas</td>\n",
       "      <td>TX</td>\n",
       "      <td>75001</td>\n",
       "    </tr>\n",
       "  </tbody>\n",
       "</table>\n",
       "</div>"
      ],
      "text/plain": [
       "   ID  User ID                   Product  Quantity  Price Each  \\\n",
       "0   1    34352    34in Ultrawide Monitor         1      379.99   \n",
       "1   2    34353     AA Batteries (4-pack)         1        3.84   \n",
       "2   3    34354  Lightning Charging Cable         1       14.95   \n",
       "3   4    34355                    iPhone         1      700.00   \n",
       "4   5    34355          Wired Headphones         1       11.99   \n",
       "\n",
       "           Order Date                          Purchase Address   Sales  \\\n",
       "0 2020-04-28 21:47:00          4864 Willow St, Dallas, TX 75001  379.99   \n",
       "1 2020-04-29 06:33:00  5103 Jefferson St, Los Angeles, CA 90001    3.84   \n",
       "2 2020-04-28 16:38:00           6451 7th St, Portland, OR 97035   14.95   \n",
       "3 2020-04-29 18:08:00            3785 Main St, Dallas, TX 75001  700.00   \n",
       "4 2020-04-29 18:08:00            3785 Main St, Dallas, TX 75001   11.99   \n",
       "\n",
       "   Month Month Name             Street         City-State          City  \\\n",
       "0      4        Apr     4864 Willow St        Dallas (TX)        Dallas   \n",
       "1      4        Apr  5103 Jefferson St   Los Angeles (CA)   Los Angeles   \n",
       "2      4        Apr        6451 7th St      Portland (OR)      Portland   \n",
       "3      4        Apr       3785 Main St        Dallas (TX)        Dallas   \n",
       "4      4        Apr       3785 Main St        Dallas (TX)        Dallas   \n",
       "\n",
       "  States Zipcode  \n",
       "0     TX   75001  \n",
       "1     CA   90001  \n",
       "2     OR   97035  \n",
       "3     TX   75001  \n",
       "4     TX   75001  "
      ]
     },
     "execution_count": 8,
     "metadata": {},
     "output_type": "execute_result"
    }
   ],
   "source": [
    "def get_street(address):\n",
    "    return address.split(\",\")[0]\n",
    "\n",
    "def get_city(address):\n",
    "    return address.split(\",\")[1]\n",
    "\n",
    "def get_state(address):\n",
    "    return address.split(\",\")[-1].split(\" \")[1]\n",
    "\n",
    "def get_zip(address):\n",
    "    return address.split(\",\")[-1].split(\" \")[-1]\n",
    "\n",
    "grouped['Street'] = grouped['Purchase Address'].apply(lambda x: get_street(x))\n",
    "grouped['City-State'] = grouped['Purchase Address'].apply(lambda x: f\"{get_city(x)} ({get_state(x)})\")\n",
    "grouped['City'] = grouped['Purchase Address'].apply(lambda x: get_city(x))\n",
    "grouped['States'] = grouped['Purchase Address'].apply(lambda x: get_state(x))\n",
    "grouped['Zipcode'] = grouped['Purchase Address'].apply(lambda x: get_zip(x))\n",
    "\n",
    "print(grouped.info())\n",
    "grouped.head()"
   ]
  },
  {
   "cell_type": "markdown",
   "metadata": {},
   "source": [
    "### Task 2.2: Calculate and Plot sales by city"
   ]
  },
  {
   "cell_type": "code",
   "execution_count": 9,
   "metadata": {
    "scrolled": true
   },
   "outputs": [
    {
     "name": "stdout",
     "output_type": "stream",
     "text": [
      "City\n",
      " Austin           1.859031e+06\n",
      " Portland         2.334226e+06\n",
      " Dallas           2.761827e+06\n",
      " Seattle          2.788772e+06\n",
      " Atlanta          2.794415e+06\n",
      " Boston           3.653551e+06\n",
      " New York City    4.627543e+06\n",
      " Los Angeles      5.591653e+06\n",
      " San Francisco    8.246449e+06\n",
      "Name: Sales, dtype: float64\n"
     ]
    },
    {
     "data": {
      "image/png": "[encoded data removed]",
      "text/plain": [
       "<Figure size 432x288 with 1 Axes>"
      ]
     },
     "metadata": {
      "needs_background": "light"
     },
     "output_type": "display_data"
    }
   ],
   "source": [
    "sales_by_city = grouped.groupby('City').sum().sort_values('Sales', ascending=True)['Sales']\n",
    "\n",
    "print(sales_by_city)\n",
    "\n",
    "graph_plot(sales_by_city, \"Sales by City\", \"City\", \"Sales in USD ($)\", 90)"
   ]
  },
  {
   "cell_type": "markdown",
   "metadata": {},
   "source": [
    "## Q3: On which day and when is the best time to advertise?"
   ]
  },
  {
   "cell_type": "markdown",
   "metadata": {},
   "source": [
    "### Task 3.1: Breakdown Order Date column"
   ]
  },
  {
   "cell_type": "code",
   "execution_count": 10,
   "metadata": {},
   "outputs": [
    {
     "data": {
      "text/html": [
       "<div>\n",
       "<style scoped>\n",
       "    .dataframe tbody tr th:only-of-type {\n",
       "        vertical-align: middle;\n",
       "    }\n",
       "\n",
       "    .dataframe tbody tr th {\n",
       "        vertical-align: top;\n",
       "    }\n",
       "\n",
       "    .dataframe thead th {\n",
       "        text-align: right;\n",
       "    }\n",
       "</style>\n",
       "<table border=\"1\" class=\"dataframe\">\n",
       "  <thead>\n",
       "    <tr style=\"text-align: right;\">\n",
       "      <th></th>\n",
       "      <th>ID</th>\n",
       "      <th>User ID</th>\n",
       "      <th>Product</th>\n",
       "      <th>Quantity</th>\n",
       "      <th>Price Each</th>\n",
       "      <th>Order Date</th>\n",
       "      <th>Purchase Address</th>\n",
       "      <th>Sales</th>\n",
       "      <th>Month</th>\n",
       "      <th>Month Name</th>\n",
       "      <th>Street</th>\n",
       "      <th>City-State</th>\n",
       "      <th>City</th>\n",
       "      <th>States</th>\n",
       "      <th>Zipcode</th>\n",
       "      <th>dow</th>\n",
       "      <th>Day</th>\n",
       "      <th>Hour</th>\n",
       "    </tr>\n",
       "  </thead>\n",
       "  <tbody>\n",
       "    <tr>\n",
       "      <th>0</th>\n",
       "      <td>1</td>\n",
       "      <td>34352</td>\n",
       "      <td>34in Ultrawide Monitor</td>\n",
       "      <td>1</td>\n",
       "      <td>379.99</td>\n",
       "      <td>2020-04-28 21:47:00</td>\n",
       "      <td>4864 Willow St, Dallas, TX 75001</td>\n",
       "      <td>379.99</td>\n",
       "      <td>4</td>\n",
       "      <td>Apr</td>\n",
       "      <td>4864 Willow St</td>\n",
       "      <td>Dallas (TX)</td>\n",
       "      <td>Dallas</td>\n",
       "      <td>TX</td>\n",
       "      <td>75001</td>\n",
       "      <td>1</td>\n",
       "      <td>Tue</td>\n",
       "      <td>21</td>\n",
       "    </tr>\n",
       "    <tr>\n",
       "      <th>1</th>\n",
       "      <td>2</td>\n",
       "      <td>34353</td>\n",
       "      <td>AA Batteries (4-pack)</td>\n",
       "      <td>1</td>\n",
       "      <td>3.84</td>\n",
       "      <td>2020-04-29 06:33:00</td>\n",
       "      <td>5103 Jefferson St, Los Angeles, CA 90001</td>\n",
       "      <td>3.84</td>\n",
       "      <td>4</td>\n",
       "      <td>Apr</td>\n",
       "      <td>5103 Jefferson St</td>\n",
       "      <td>Los Angeles (CA)</td>\n",
       "      <td>Los Angeles</td>\n",
       "      <td>CA</td>\n",
       "      <td>90001</td>\n",
       "      <td>2</td>\n",
       "      <td>Wed</td>\n",
       "      <td>6</td>\n",
       "    </tr>\n",
       "    <tr>\n",
       "      <th>2</th>\n",
       "      <td>3</td>\n",
       "      <td>34354</td>\n",
       "      <td>Lightning Charging Cable</td>\n",
       "      <td>1</td>\n",
       "      <td>14.95</td>\n",
       "      <td>2020-04-28 16:38:00</td>\n",
       "      <td>6451 7th St, Portland, OR 97035</td>\n",
       "      <td>14.95</td>\n",
       "      <td>4</td>\n",
       "      <td>Apr</td>\n",
       "      <td>6451 7th St</td>\n",
       "      <td>Portland (OR)</td>\n",
       "      <td>Portland</td>\n",
       "      <td>OR</td>\n",
       "      <td>97035</td>\n",
       "      <td>1</td>\n",
       "      <td>Tue</td>\n",
       "      <td>16</td>\n",
       "    </tr>\n",
       "    <tr>\n",
       "      <th>3</th>\n",
       "      <td>4</td>\n",
       "      <td>34355</td>\n",
       "      <td>iPhone</td>\n",
       "      <td>1</td>\n",
       "      <td>700.00</td>\n",
       "      <td>2020-04-29 18:08:00</td>\n",
       "      <td>3785 Main St, Dallas, TX 75001</td>\n",
       "      <td>700.00</td>\n",
       "      <td>4</td>\n",
       "      <td>Apr</td>\n",
       "      <td>3785 Main St</td>\n",
       "      <td>Dallas (TX)</td>\n",
       "      <td>Dallas</td>\n",
       "      <td>TX</td>\n",
       "      <td>75001</td>\n",
       "      <td>2</td>\n",
       "      <td>Wed</td>\n",
       "      <td>18</td>\n",
       "    </tr>\n",
       "    <tr>\n",
       "      <th>4</th>\n",
       "      <td>5</td>\n",
       "      <td>34355</td>\n",
       "      <td>Wired Headphones</td>\n",
       "      <td>1</td>\n",
       "      <td>11.99</td>\n",
       "      <td>2020-04-29 18:08:00</td>\n",
       "      <td>3785 Main St, Dallas, TX 75001</td>\n",
       "      <td>11.99</td>\n",
       "      <td>4</td>\n",
       "      <td>Apr</td>\n",
       "      <td>3785 Main St</td>\n",
       "      <td>Dallas (TX)</td>\n",
       "      <td>Dallas</td>\n",
       "      <td>TX</td>\n",
       "      <td>75001</td>\n",
       "      <td>2</td>\n",
       "      <td>Wed</td>\n",
       "      <td>18</td>\n",
       "    </tr>\n",
       "  </tbody>\n",
       "</table>\n",
       "</div>"
      ],
      "text/plain": [
       "   ID  User ID                   Product  Quantity  Price Each  \\\n",
       "0   1    34352    34in Ultrawide Monitor         1      379.99   \n",
       "1   2    34353     AA Batteries (4-pack)         1        3.84   \n",
       "2   3    34354  Lightning Charging Cable         1       14.95   \n",
       "3   4    34355                    iPhone         1      700.00   \n",
       "4   5    34355          Wired Headphones         1       11.99   \n",
       "\n",
       "           Order Date                          Purchase Address   Sales  \\\n",
       "0 2020-04-28 21:47:00          4864 Willow St, Dallas, TX 75001  379.99   \n",
       "1 2020-04-29 06:33:00  5103 Jefferson St, Los Angeles, CA 90001    3.84   \n",
       "2 2020-04-28 16:38:00           6451 7th St, Portland, OR 97035   14.95   \n",
       "3 2020-04-29 18:08:00            3785 Main St, Dallas, TX 75001  700.00   \n",
       "4 2020-04-29 18:08:00            3785 Main St, Dallas, TX 75001   11.99   \n",
       "\n",
       "   Month Month Name             Street         City-State          City  \\\n",
       "0      4        Apr     4864 Willow St        Dallas (TX)        Dallas   \n",
       "1      4        Apr  5103 Jefferson St   Los Angeles (CA)   Los Angeles   \n",
       "2      4        Apr        6451 7th St      Portland (OR)      Portland   \n",
       "3      4        Apr       3785 Main St        Dallas (TX)        Dallas   \n",
       "4      4        Apr       3785 Main St        Dallas (TX)        Dallas   \n",
       "\n",
       "  States Zipcode  dow  Day  Hour  \n",
       "0     TX   75001    1  Tue    21  \n",
       "1     CA   90001    2  Wed     6  \n",
       "2     OR   97035    1  Tue    16  \n",
       "3     TX   75001    2  Wed    18  \n",
       "4     TX   75001    2  Wed    18  "
      ]
     },
     "execution_count": 10,
     "metadata": {},
     "output_type": "execute_result"
    }
   ],
   "source": [
    "grouped['dow'] = grouped['Order Date'].dt.dayofweek\n",
    "grouped['Day'] = grouped['Order Date'].dt.strftime(\"%a\")\n",
    "grouped['Hour'] = grouped['Order Date'].dt.hour\n",
    "\n",
    "grouped.head()"
   ]
  },
  {
   "cell_type": "markdown",
   "metadata": {},
   "source": [
    "### Task 3.2: Calculate and Plot sales by day and hour"
   ]
  },
  {
   "cell_type": "code",
   "execution_count": 11,
   "metadata": {
    "scrolled": false
   },
   "outputs": [
    {
     "name": "stdout",
     "output_type": "stream",
     "text": [
      "Day\n",
      "Mon    4.906913e+06\n",
      "Tue    4.937413e+06\n",
      "Wed    5.053680e+06\n",
      "Thu    5.094954e+06\n",
      "Fri    4.996952e+06\n",
      "Sat    4.773318e+06\n",
      "Sun    4.894236e+06\n",
      "Name: Sales, dtype: float64\n"
     ]
    },
    {
     "data": {
      "image/png": "[encoded data removed]",
      "text/plain": [
       "<Figure size 432x288 with 1 Axes>"
      ]
     },
     "metadata": {
      "needs_background": "light"
     },
     "output_type": "display_data"
    }
   ],
   "source": [
    "sales_by_day = grouped.groupby('Day').sum().sort_values('dow')['Sales']\n",
    "\n",
    "print(sales_by_day)\n",
    "\n",
    "graph_plot(sales_by_day, \"Sales by Day\", \"Day\", \"Sales in USD ($)\", kind='line')"
   ]
  },
  {
   "cell_type": "code",
   "execution_count": 12,
   "metadata": {},
   "outputs": [
    {
     "name": "stdout",
     "output_type": "stream",
     "text": [
      "Hour\n",
      "0      777496.54\n",
      "1      442712.82\n",
      "2      245751.87\n",
      "3      163560.19\n",
      "4      143834.27\n",
      "5      220918.10\n",
      "6      443895.79\n",
      "7      769488.58\n",
      "8     1163044.16\n",
      "9     1667080.44\n",
      "10    1994440.66\n",
      "11    2211298.46\n",
      "12    2343253.68\n",
      "13    2267057.33\n",
      "14    2044981.64\n",
      "15    1892473.75\n",
      "16    1972905.14\n",
      "17    2170554.55\n",
      "18    2234768.94\n",
      "19    2347959.63\n",
      "20    2305012.22\n",
      "21    1948731.62\n",
      "22    1656194.15\n",
      "23    1230051.47\n",
      "Name: Sales, dtype: float64\n"
     ]
    },
    {
     "data": {
      "image/png": "[encoded data removed]",
      "text/plain": [
       "<Figure size 432x288 with 1 Axes>"
      ]
     },
     "metadata": {
      "needs_background": "light"
     },
     "output_type": "display_data"
    }
   ],
   "source": [
    "sales_by_hour = grouped.groupby('Hour').sum().sort_values(['Hour'])['Sales']\n",
    "\n",
    "print(sales_by_hour)\n",
    "\n",
    "graph_plot(sales_by_hour, \"Sales by Hour\", \"HOur\", \"Sales in USD ($)\", kind='line')"
   ]
  },
  {
   "cell_type": "code",
   "execution_count": 13,
   "metadata": {},
   "outputs": [
    {
     "data": {
      "image/png": "[encoded data removed]",
      "text/plain": [
       "<Figure size 432x288 with 2 Axes>"
      ]
     },
     "metadata": {
      "needs_background": "light"
     },
     "output_type": "display_data"
    }
   ],
   "source": [
    "heatmap = grouped.groupby(['Day', 'Hour']).sum()['Sales'].unstack()\n",
    "\n",
    "plt.figure()\n",
    "plt.title(\"Sales Heatmap by Day and Hour\" + \" Graph\")\n",
    "sns.heatmap(heatmap)\n",
    "plt.show()\n",
    "plt.gcf()\n",
    "plt.cla()\n",
    "plt.clf()\n",
    "plt.close()"
   ]
  },
  {
   "cell_type": "markdown",
   "metadata": {},
   "source": [
    "#### The recommendation for advertisement is to target sells on Thursday 20 pm"
   ]
  },
  {
   "cell_type": "markdown",
   "metadata": {},
   "source": [
    "## Q4: Which products are most often sold together?"
   ]
  },
  {
   "cell_type": "markdown",
   "metadata": {},
   "source": [
    "### Task 4.1 Add a Paired Product column"
   ]
  },
  {
   "cell_type": "code",
   "execution_count": 14,
   "metadata": {
    "scrolled": true
   },
   "outputs": [
    {
     "name": "stderr",
     "output_type": "stream",
     "text": [
      "<ipython-input-14-cebf59dab49c>:3: SettingWithCopyWarning: \n",
      "A value is trying to be set on a copy of a slice from a DataFrame.\n",
      "Try using .loc[row_indexer,col_indexer] = value instead\n",
      "\n",
      "See the caveats in the documentation: https://pandas.pydata.org/pandas-docs/stable/user_guide/indexing.html#returning-a-view-versus-a-copy\n",
      "  multi['Paired'] = multi.groupby('User ID')['Product'].transform(lambda x: (\",\").join(x))\n"
     ]
    },
    {
     "data": {
      "text/html": [
       "<div>\n",
       "<style scoped>\n",
       "    .dataframe tbody tr th:only-of-type {\n",
       "        vertical-align: middle;\n",
       "    }\n",
       "\n",
       "    .dataframe tbody tr th {\n",
       "        vertical-align: top;\n",
       "    }\n",
       "\n",
       "    .dataframe thead th {\n",
       "        text-align: right;\n",
       "    }\n",
       "</style>\n",
       "<table border=\"1\" class=\"dataframe\">\n",
       "  <thead>\n",
       "    <tr style=\"text-align: right;\">\n",
       "      <th></th>\n",
       "      <th>ID</th>\n",
       "      <th>User ID</th>\n",
       "      <th>Product</th>\n",
       "      <th>Quantity</th>\n",
       "      <th>Price Each</th>\n",
       "      <th>Order Date</th>\n",
       "      <th>Purchase Address</th>\n",
       "      <th>Sales</th>\n",
       "      <th>Month</th>\n",
       "      <th>Month Name</th>\n",
       "      <th>Street</th>\n",
       "      <th>City-State</th>\n",
       "      <th>City</th>\n",
       "      <th>States</th>\n",
       "      <th>Zipcode</th>\n",
       "      <th>dow</th>\n",
       "      <th>Day</th>\n",
       "      <th>Hour</th>\n",
       "      <th>Paired</th>\n",
       "    </tr>\n",
       "  </thead>\n",
       "  <tbody>\n",
       "    <tr>\n",
       "      <th>3</th>\n",
       "      <td>4</td>\n",
       "      <td>34355</td>\n",
       "      <td>iPhone</td>\n",
       "      <td>1</td>\n",
       "      <td>700.00</td>\n",
       "      <td>2020-04-29 18:08:00</td>\n",
       "      <td>3785 Main St, Dallas, TX 75001</td>\n",
       "      <td>700.00</td>\n",
       "      <td>4</td>\n",
       "      <td>Apr</td>\n",
       "      <td>3785 Main St</td>\n",
       "      <td>Dallas (TX)</td>\n",
       "      <td>Dallas</td>\n",
       "      <td>TX</td>\n",
       "      <td>75001</td>\n",
       "      <td>2</td>\n",
       "      <td>Wed</td>\n",
       "      <td>18</td>\n",
       "      <td>iPhone,Wired Headphones</td>\n",
       "    </tr>\n",
       "    <tr>\n",
       "      <th>4</th>\n",
       "      <td>5</td>\n",
       "      <td>34355</td>\n",
       "      <td>Wired Headphones</td>\n",
       "      <td>1</td>\n",
       "      <td>11.99</td>\n",
       "      <td>2020-04-29 18:08:00</td>\n",
       "      <td>3785 Main St, Dallas, TX 75001</td>\n",
       "      <td>11.99</td>\n",
       "      <td>4</td>\n",
       "      <td>Apr</td>\n",
       "      <td>3785 Main St</td>\n",
       "      <td>Dallas (TX)</td>\n",
       "      <td>Dallas</td>\n",
       "      <td>TX</td>\n",
       "      <td>75001</td>\n",
       "      <td>2</td>\n",
       "      <td>Wed</td>\n",
       "      <td>18</td>\n",
       "      <td>iPhone,Wired Headphones</td>\n",
       "    </tr>\n",
       "    <tr>\n",
       "      <th>8</th>\n",
       "      <td>9</td>\n",
       "      <td>34359</td>\n",
       "      <td>Lightning Charging Cable</td>\n",
       "      <td>1</td>\n",
       "      <td>14.95</td>\n",
       "      <td>2020-04-23 13:22:00</td>\n",
       "      <td>5215 5th St, San Francisco, CA 94016</td>\n",
       "      <td>14.95</td>\n",
       "      <td>4</td>\n",
       "      <td>Apr</td>\n",
       "      <td>5215 5th St</td>\n",
       "      <td>San Francisco (CA)</td>\n",
       "      <td>San Francisco</td>\n",
       "      <td>CA</td>\n",
       "      <td>94016</td>\n",
       "      <td>3</td>\n",
       "      <td>Thu</td>\n",
       "      <td>13</td>\n",
       "      <td>Lightning Charging Cable,Apple Airpods Headphones</td>\n",
       "    </tr>\n",
       "    <tr>\n",
       "      <th>9</th>\n",
       "      <td>10</td>\n",
       "      <td>34359</td>\n",
       "      <td>Apple Airpods Headphones</td>\n",
       "      <td>1</td>\n",
       "      <td>150.00</td>\n",
       "      <td>2020-04-23 13:22:00</td>\n",
       "      <td>5215 5th St, San Francisco, CA 94016</td>\n",
       "      <td>150.00</td>\n",
       "      <td>4</td>\n",
       "      <td>Apr</td>\n",
       "      <td>5215 5th St</td>\n",
       "      <td>San Francisco (CA)</td>\n",
       "      <td>San Francisco</td>\n",
       "      <td>CA</td>\n",
       "      <td>94016</td>\n",
       "      <td>3</td>\n",
       "      <td>Thu</td>\n",
       "      <td>13</td>\n",
       "      <td>Lightning Charging Cable,Apple Airpods Headphones</td>\n",
       "    </tr>\n",
       "    <tr>\n",
       "      <th>29</th>\n",
       "      <td>30</td>\n",
       "      <td>34379</td>\n",
       "      <td>20in Monitor</td>\n",
       "      <td>1</td>\n",
       "      <td>109.99</td>\n",
       "      <td>2020-04-05 14:48:00</td>\n",
       "      <td>5924 Hill St, Los Angeles, CA 90001</td>\n",
       "      <td>109.99</td>\n",
       "      <td>4</td>\n",
       "      <td>Apr</td>\n",
       "      <td>5924 Hill St</td>\n",
       "      <td>Los Angeles (CA)</td>\n",
       "      <td>Los Angeles</td>\n",
       "      <td>CA</td>\n",
       "      <td>90001</td>\n",
       "      <td>6</td>\n",
       "      <td>Sun</td>\n",
       "      <td>14</td>\n",
       "      <td>20in Monitor,Lightning Charging Cable</td>\n",
       "    </tr>\n",
       "  </tbody>\n",
       "</table>\n",
       "</div>"
      ],
      "text/plain": [
       "    ID  User ID                   Product  Quantity  Price Each  \\\n",
       "3    4    34355                    iPhone         1      700.00   \n",
       "4    5    34355          Wired Headphones         1       11.99   \n",
       "8    9    34359  Lightning Charging Cable         1       14.95   \n",
       "9   10    34359  Apple Airpods Headphones         1      150.00   \n",
       "29  30    34379              20in Monitor         1      109.99   \n",
       "\n",
       "            Order Date                      Purchase Address   Sales  Month  \\\n",
       "3  2020-04-29 18:08:00        3785 Main St, Dallas, TX 75001  700.00      4   \n",
       "4  2020-04-29 18:08:00        3785 Main St, Dallas, TX 75001   11.99      4   \n",
       "8  2020-04-23 13:22:00  5215 5th St, San Francisco, CA 94016   14.95      4   \n",
       "9  2020-04-23 13:22:00  5215 5th St, San Francisco, CA 94016  150.00      4   \n",
       "29 2020-04-05 14:48:00   5924 Hill St, Los Angeles, CA 90001  109.99      4   \n",
       "\n",
       "   Month Name        Street           City-State            City States  \\\n",
       "3         Apr  3785 Main St          Dallas (TX)          Dallas     TX   \n",
       "4         Apr  3785 Main St          Dallas (TX)          Dallas     TX   \n",
       "8         Apr   5215 5th St   San Francisco (CA)   San Francisco     CA   \n",
       "9         Apr   5215 5th St   San Francisco (CA)   San Francisco     CA   \n",
       "29        Apr  5924 Hill St     Los Angeles (CA)     Los Angeles     CA   \n",
       "\n",
       "   Zipcode  dow  Day  Hour                                             Paired  \n",
       "3    75001    2  Wed    18                            iPhone,Wired Headphones  \n",
       "4    75001    2  Wed    18                            iPhone,Wired Headphones  \n",
       "8    94016    3  Thu    13  Lightning Charging Cable,Apple Airpods Headphones  \n",
       "9    94016    3  Thu    13  Lightning Charging Cable,Apple Airpods Headphones  \n",
       "29   90001    6  Sun    14              20in Monitor,Lightning Charging Cable  "
      ]
     },
     "execution_count": 14,
     "metadata": {},
     "output_type": "execute_result"
    }
   ],
   "source": [
    "# Find user with multiple purchases\n",
    "multi = grouped.loc[grouped['User ID'].duplicated(keep=False)]\n",
    "multi['Paired'] = multi.groupby('User ID')['Product'].transform(lambda x: (\",\").join(x))\n",
    "\n",
    "multi.head()"
   ]
  },
  {
   "cell_type": "markdown",
   "metadata": {},
   "source": [
    "### Task 4.2 Calculate the Paired Product combination"
   ]
  },
  {
   "cell_type": "code",
   "execution_count": 15,
   "metadata": {},
   "outputs": [
    {
     "name": "stdout",
     "output_type": "stream",
     "text": [
      "<class 'pandas.core.frame.DataFrame'>\n",
      "Int64Index: 6952 entries, 3 to 15132\n",
      "Data columns (total 2 columns):\n",
      " #   Column   Non-Null Count  Dtype \n",
      "---  ------   --------------  ----- \n",
      " 0   User ID  6952 non-null   int64 \n",
      " 1   Paired   6952 non-null   object\n",
      "dtypes: int64(1), object(1)\n",
      "memory usage: 162.9+ KB\n",
      "None\n"
     ]
    },
    {
     "data": {
      "text/html": [
       "<div>\n",
       "<style scoped>\n",
       "    .dataframe tbody tr th:only-of-type {\n",
       "        vertical-align: middle;\n",
       "    }\n",
       "\n",
       "    .dataframe tbody tr th {\n",
       "        vertical-align: top;\n",
       "    }\n",
       "\n",
       "    .dataframe thead th {\n",
       "        text-align: right;\n",
       "    }\n",
       "</style>\n",
       "<table border=\"1\" class=\"dataframe\">\n",
       "  <thead>\n",
       "    <tr style=\"text-align: right;\">\n",
       "      <th></th>\n",
       "      <th>User ID</th>\n",
       "      <th>Paired</th>\n",
       "    </tr>\n",
       "  </thead>\n",
       "  <tbody>\n",
       "    <tr>\n",
       "      <th>3</th>\n",
       "      <td>34355</td>\n",
       "      <td>iPhone,Wired Headphones</td>\n",
       "    </tr>\n",
       "    <tr>\n",
       "      <th>8</th>\n",
       "      <td>34359</td>\n",
       "      <td>Lightning Charging Cable,Apple Airpods Headphones</td>\n",
       "    </tr>\n",
       "    <tr>\n",
       "      <th>29</th>\n",
       "      <td>34379</td>\n",
       "      <td>20in Monitor,Lightning Charging Cable</td>\n",
       "    </tr>\n",
       "    <tr>\n",
       "      <th>35</th>\n",
       "      <td>34384</td>\n",
       "      <td>Lightning Charging Cable,AA Batteries (4-pack)</td>\n",
       "    </tr>\n",
       "    <tr>\n",
       "      <th>53</th>\n",
       "      <td>34401</td>\n",
       "      <td>Thinkpad Laptop,Apple Airpods Headphones</td>\n",
       "    </tr>\n",
       "  </tbody>\n",
       "</table>\n",
       "</div>"
      ],
      "text/plain": [
       "    User ID                                             Paired\n",
       "3     34355                            iPhone,Wired Headphones\n",
       "8     34359  Lightning Charging Cable,Apple Airpods Headphones\n",
       "29    34379              20in Monitor,Lightning Charging Cable\n",
       "35    34384     Lightning Charging Cable,AA Batteries (4-pack)\n",
       "53    34401           Thinkpad Laptop,Apple Airpods Headphones"
      ]
     },
     "execution_count": 15,
     "metadata": {},
     "output_type": "execute_result"
    }
   ],
   "source": [
    "# Deduplicate the previous dataframe\n",
    "dedup = multi[['User ID', 'Paired']].drop_duplicates()\n",
    "\n",
    "print(dedup.info())\n",
    "dedup.head()"
   ]
  },
  {
   "cell_type": "code",
   "execution_count": 16,
   "metadata": {},
   "outputs": [
    {
     "name": "stdout",
     "output_type": "stream",
     "text": [
      "<class 'pandas.core.frame.DataFrame'>\n",
      "RangeIndex: 363 entries, 0 to 362\n",
      "Data columns (total 4 columns):\n",
      " #   Column       Non-Null Count  Dtype \n",
      "---  ------       --------------  ----- \n",
      " 0   Combination  363 non-null    object\n",
      " 1   Frequency    363 non-null    int64 \n",
      " 2   Product Num  363 non-null    int64 \n",
      " 3   Paired       363 non-null    object\n",
      "dtypes: int64(2), object(2)\n",
      "memory usage: 11.5+ KB\n",
      "None\n"
     ]
    },
    {
     "data": {
      "text/html": [
       "<div>\n",
       "<style scoped>\n",
       "    .dataframe tbody tr th:only-of-type {\n",
       "        vertical-align: middle;\n",
       "    }\n",
       "\n",
       "    .dataframe tbody tr th {\n",
       "        vertical-align: top;\n",
       "    }\n",
       "\n",
       "    .dataframe thead th {\n",
       "        text-align: right;\n",
       "    }\n",
       "</style>\n",
       "<table border=\"1\" class=\"dataframe\">\n",
       "  <thead>\n",
       "    <tr style=\"text-align: right;\">\n",
       "      <th></th>\n",
       "      <th>Combination</th>\n",
       "      <th>Frequency</th>\n",
       "      <th>Product Num</th>\n",
       "      <th>Paired</th>\n",
       "    </tr>\n",
       "  </thead>\n",
       "  <tbody>\n",
       "    <tr>\n",
       "      <th>0</th>\n",
       "      <td>[Google Phone, USB-C Charging Cable]</td>\n",
       "      <td>1022</td>\n",
       "      <td>2</td>\n",
       "      <td>Google Phone,USB-C Charging Cable</td>\n",
       "    </tr>\n",
       "    <tr>\n",
       "      <th>1</th>\n",
       "      <td>[iPhone, Lightning Charging Cable]</td>\n",
       "      <td>1003</td>\n",
       "      <td>2</td>\n",
       "      <td>iPhone,Lightning Charging Cable</td>\n",
       "    </tr>\n",
       "    <tr>\n",
       "      <th>2</th>\n",
       "      <td>[iPhone, Wired Headphones]</td>\n",
       "      <td>543</td>\n",
       "      <td>2</td>\n",
       "      <td>iPhone,Wired Headphones</td>\n",
       "    </tr>\n",
       "    <tr>\n",
       "      <th>3</th>\n",
       "      <td>[iPhone, Apple Airpods Headphones]</td>\n",
       "      <td>398</td>\n",
       "      <td>2</td>\n",
       "      <td>iPhone,Apple Airpods Headphones</td>\n",
       "    </tr>\n",
       "    <tr>\n",
       "      <th>4</th>\n",
       "      <td>[Vareebadd Phone, USB-C Charging Cable]</td>\n",
       "      <td>396</td>\n",
       "      <td>2</td>\n",
       "      <td>Vareebadd Phone,USB-C Charging Cable</td>\n",
       "    </tr>\n",
       "  </tbody>\n",
       "</table>\n",
       "</div>"
      ],
      "text/plain": [
       "                               Combination  Frequency  Product Num  \\\n",
       "0     [Google Phone, USB-C Charging Cable]       1022            2   \n",
       "1       [iPhone, Lightning Charging Cable]       1003            2   \n",
       "2               [iPhone, Wired Headphones]        543            2   \n",
       "3       [iPhone, Apple Airpods Headphones]        398            2   \n",
       "4  [Vareebadd Phone, USB-C Charging Cable]        396            2   \n",
       "\n",
       "                                 Paired  \n",
       "0     Google Phone,USB-C Charging Cable  \n",
       "1       iPhone,Lightning Charging Cable  \n",
       "2               iPhone,Wired Headphones  \n",
       "3       iPhone,Apple Airpods Headphones  \n",
       "4  Vareebadd Phone,USB-C Charging Cable  "
      ]
     },
     "execution_count": 16,
     "metadata": {},
     "output_type": "execute_result"
    }
   ],
   "source": [
    "count = Counter()\n",
    "\n",
    "for row in dedup['Paired']:\n",
    "    row_list = row.split(\",\")\n",
    "    for i in range(2,5):\n",
    "        count.update(Counter(combinations(row_list, i)))\n",
    "\n",
    "cols = ['Combination', 'Frequency']\n",
    "counter = pd.DataFrame(count.most_common(), columns=cols)\n",
    "\n",
    "counter['Combination'] = [list(tupl) for tupl in counter['Combination']]\n",
    "counter['Product Num'] = [len(ls) for ls in counter['Combination']]\n",
    "counter['Paired'] = [','.join(ls) for ls in counter['Combination']] \n",
    "\n",
    "print(counter.info())\n",
    "counter.head()"
   ]
  },
  {
   "cell_type": "code",
   "execution_count": 17,
   "metadata": {},
   "outputs": [
    {
     "data": {
      "image/png": "[encoded data removed]",
      "text/plain": [
       "<Figure size 432x288 with 1 Axes>"
      ]
     },
     "metadata": {
      "needs_background": "light"
     },
     "output_type": "display_data"
    }
   ],
   "source": [
    "x = counter.Paired.head(10).values\n",
    "y = counter.Frequency.head(10).values\n",
    "colors = counter['Product Num'].head(10).values\n",
    "\n",
    "plt.figure()\n",
    "plt.title(\"Top 10 Most Common Combination\")\n",
    "plt.scatter(x, y, s=y, c=colors, alpha=0.5)\n",
    "\n",
    "\n",
    "plt.xticks(rotation=90)\n",
    "\n",
    "\n",
    "plt.show()\n",
    "plt.gca()\n",
    "plt.cla()\n",
    "plt.gcf()\n",
    "plt.clf()\n",
    "plt.close()"
   ]
  },
  {
   "cell_type": "markdown",
   "metadata": {},
   "source": [
    "## Q5: Which product sold the most?"
   ]
  },
  {
   "cell_type": "markdown",
   "metadata": {},
   "source": [
    "### Task 5.1 Calculate and Plot sales by product and price by product"
   ]
  },
  {
   "cell_type": "code",
   "execution_count": 18,
   "metadata": {
    "scrolled": true
   },
   "outputs": [
    {
     "name": "stderr",
     "output_type": "stream",
     "text": [
      "<ipython-input-18-2e5b189030f5>:20: UserWarning: FixedFormatter should only be used together with FixedLocator\n",
      "  ax1.set_xticklabels(products, rotation=90)\n"
     ]
    },
    {
     "data": {
      "text/plain": [
       "<Figure size 432x288 with 0 Axes>"
      ]
     },
     "metadata": {},
     "output_type": "display_data"
    },
    {
     "data": {
      "image/png": "[encoded data removed]",
      "text/plain": [
       "<Figure size 432x288 with 2 Axes>"
      ]
     },
     "metadata": {
      "needs_background": "light"
     },
     "output_type": "display_data"
    }
   ],
   "source": [
    "sales_by_product = grouped.groupby('Product').sum().sort_values('Product')['Sales']\n",
    "price_by_product = grouped.groupby('Product').mean().sort_values('Product')['Price Each']\n",
    "\n",
    "products = sales_by_product.index\n",
    "quantity = sales_by_product.values\n",
    "price = price_by_product.values\n",
    "\n",
    "plt.figure()\n",
    "fig, ax1 = plt.subplots()\n",
    "\n",
    "ax2 = ax1.twinx()\n",
    "\n",
    "ax1.bar(products, quantity)\n",
    "ax2.plot(products, price, 'g')\n",
    "\n",
    "ax1.set_xlabel(\"Product\")\n",
    "ax1.set_ylabel(\"Quantity\", color='b')\n",
    "ax2.set_ylabel(\"Price ($)\", color='g')\n",
    "\n",
    "ax1.set_xticklabels(products, rotation=90)\n",
    "ax1.ticklabel_format(style='plain', axis='y')\n",
    "\n",
    "\n",
    "plt.show()\n",
    "plt.gca()\n",
    "plt.cla()\n",
    "plt.gcf()\n",
    "plt.clf()\n",
    "plt.close()"
   ]
  },
  {
   "cell_type": "markdown",
   "metadata": {},
   "source": [
    "## Export data to csv"
   ]
  },
  {
   "cell_type": "code",
   "execution_count": 19,
   "metadata": {},
   "outputs": [],
   "source": [
    "dedup = dedup.merge(counter, how='left', on='Paired')\n",
    "final = grouped.merge(dedup, how='left', on='User ID')\n",
    "\n",
    "final.to_csv(path + '2020_Sales.csv', index=False)"
   ]
  }
 ],
 "metadata": {
  "kernelspec": {
   "display_name": "Python 3",
   "language": "python",
   "name": "python3"
  },
  "language_info": {
   "codemirror_mode": {
    "name": "ipython",
    "version": 3
   },
   "file_extension": ".py",
   "mimetype": "text/x-python",
   "name": "python",
   "nbconvert_exporter": "python",
   "pygments_lexer": "ipython3",
   "version": "3.8.3"
  }
 },
 "nbformat": 4,
 "nbformat_minor": 4
}
